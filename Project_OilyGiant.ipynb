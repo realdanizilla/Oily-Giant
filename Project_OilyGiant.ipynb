{
 "cells": [
  {
   "cell_type": "code",
   "execution_count": 1,
   "metadata": {},
   "outputs": [],
   "source": [
    "# importando as bibliotecas\n",
    "\n",
    "import pandas as pd\n",
    "import numpy as np\n",
    "import matplotlib.pyplot as plt\n",
    "from sklearn.model_selection import train_test_split\n",
    "from sklearn.linear_model import LinearRegression\n",
    "from sklearn.metrics import mean_squared_error\n",
    "from sklearn.metrics import mean_absolute_error\n",
    "from sklearn.metrics import r2_score\n",
    "from sklearn.preprocessing import StandardScaler\n",
    "from scipy import stats as st"
   ]
  },
  {
   "cell_type": "code",
   "execution_count": 2,
   "metadata": {
    "scrolled": true
   },
   "outputs": [],
   "source": [
    "# carregando os dados\n",
    "data0 = pd.read_csv('/datasets/geo_data_0.csv')\n",
    "data1 = pd.read_csv('/datasets/geo_data_1.csv')\n",
    "data2 = pd.read_csv('/datasets/geo_data_2.csv')"
   ]
  },
  {
   "cell_type": "markdown",
   "metadata": {},
   "source": []
  },
  {
   "cell_type": "code",
   "execution_count": 3,
   "metadata": {
    "scrolled": true
   },
   "outputs": [
    {
     "data": {
      "text/html": [
       "<div>\n",
       "<style scoped>\n",
       "    .dataframe tbody tr th:only-of-type {\n",
       "        vertical-align: middle;\n",
       "    }\n",
       "\n",
       "    .dataframe tbody tr th {\n",
       "        vertical-align: top;\n",
       "    }\n",
       "\n",
       "    .dataframe thead th {\n",
       "        text-align: right;\n",
       "    }\n",
       "</style>\n",
       "<table border=\"1\" class=\"dataframe\">\n",
       "  <thead>\n",
       "    <tr style=\"text-align: right;\">\n",
       "      <th></th>\n",
       "      <th>id</th>\n",
       "      <th>f0</th>\n",
       "      <th>f1</th>\n",
       "      <th>f2</th>\n",
       "      <th>product</th>\n",
       "    </tr>\n",
       "  </thead>\n",
       "  <tbody>\n",
       "    <tr>\n",
       "      <th>55060</th>\n",
       "      <td>ZsaTd</td>\n",
       "      <td>0.224108</td>\n",
       "      <td>-0.230258</td>\n",
       "      <td>3.360397</td>\n",
       "      <td>109.123923</td>\n",
       "    </tr>\n",
       "    <tr>\n",
       "      <th>22003</th>\n",
       "      <td>NhnDA</td>\n",
       "      <td>0.606321</td>\n",
       "      <td>0.518622</td>\n",
       "      <td>0.467130</td>\n",
       "      <td>115.299146</td>\n",
       "    </tr>\n",
       "    <tr>\n",
       "      <th>76419</th>\n",
       "      <td>7QHcI</td>\n",
       "      <td>-0.916292</td>\n",
       "      <td>0.504768</td>\n",
       "      <td>2.968740</td>\n",
       "      <td>47.085293</td>\n",
       "    </tr>\n",
       "    <tr>\n",
       "      <th>62039</th>\n",
       "      <td>RRR4o</td>\n",
       "      <td>0.881724</td>\n",
       "      <td>0.623691</td>\n",
       "      <td>3.971084</td>\n",
       "      <td>147.200217</td>\n",
       "    </tr>\n",
       "    <tr>\n",
       "      <th>28000</th>\n",
       "      <td>YyOCl</td>\n",
       "      <td>0.285110</td>\n",
       "      <td>0.834810</td>\n",
       "      <td>-1.237105</td>\n",
       "      <td>61.997874</td>\n",
       "    </tr>\n",
       "    <tr>\n",
       "      <th>21610</th>\n",
       "      <td>6WFmP</td>\n",
       "      <td>0.839573</td>\n",
       "      <td>0.297005</td>\n",
       "      <td>-1.350335</td>\n",
       "      <td>63.641127</td>\n",
       "    </tr>\n",
       "    <tr>\n",
       "      <th>45257</th>\n",
       "      <td>FLv3A</td>\n",
       "      <td>-0.272373</td>\n",
       "      <td>1.028298</td>\n",
       "      <td>1.076160</td>\n",
       "      <td>77.181488</td>\n",
       "    </tr>\n",
       "    <tr>\n",
       "      <th>93032</th>\n",
       "      <td>8FrpP</td>\n",
       "      <td>1.310209</td>\n",
       "      <td>-0.373004</td>\n",
       "      <td>2.566429</td>\n",
       "      <td>146.388244</td>\n",
       "    </tr>\n",
       "    <tr>\n",
       "      <th>23664</th>\n",
       "      <td>D67VJ</td>\n",
       "      <td>-0.681437</td>\n",
       "      <td>0.653900</td>\n",
       "      <td>4.324087</td>\n",
       "      <td>153.124407</td>\n",
       "    </tr>\n",
       "    <tr>\n",
       "      <th>9789</th>\n",
       "      <td>Kz0nm</td>\n",
       "      <td>0.374620</td>\n",
       "      <td>0.980580</td>\n",
       "      <td>-4.911908</td>\n",
       "      <td>49.260756</td>\n",
       "    </tr>\n",
       "  </tbody>\n",
       "</table>\n",
       "</div>"
      ],
      "text/plain": [
       "          id        f0        f1        f2     product\n",
       "55060  ZsaTd  0.224108 -0.230258  3.360397  109.123923\n",
       "22003  NhnDA  0.606321  0.518622  0.467130  115.299146\n",
       "76419  7QHcI -0.916292  0.504768  2.968740   47.085293\n",
       "62039  RRR4o  0.881724  0.623691  3.971084  147.200217\n",
       "28000  YyOCl  0.285110  0.834810 -1.237105   61.997874\n",
       "21610  6WFmP  0.839573  0.297005 -1.350335   63.641127\n",
       "45257  FLv3A -0.272373  1.028298  1.076160   77.181488\n",
       "93032  8FrpP  1.310209 -0.373004  2.566429  146.388244\n",
       "23664  D67VJ -0.681437  0.653900  4.324087  153.124407\n",
       "9789   Kz0nm  0.374620  0.980580 -4.911908   49.260756"
      ]
     },
     "execution_count": 3,
     "metadata": {},
     "output_type": "execute_result"
    }
   ],
   "source": [
    "# visualizando os dados\n",
    "data0.sample(10)"
   ]
  },
  {
   "cell_type": "code",
   "execution_count": 4,
   "metadata": {
    "scrolled": true
   },
   "outputs": [
    {
     "data": {
      "text/html": [
       "<div>\n",
       "<style scoped>\n",
       "    .dataframe tbody tr th:only-of-type {\n",
       "        vertical-align: middle;\n",
       "    }\n",
       "\n",
       "    .dataframe tbody tr th {\n",
       "        vertical-align: top;\n",
       "    }\n",
       "\n",
       "    .dataframe thead th {\n",
       "        text-align: right;\n",
       "    }\n",
       "</style>\n",
       "<table border=\"1\" class=\"dataframe\">\n",
       "  <thead>\n",
       "    <tr style=\"text-align: right;\">\n",
       "      <th></th>\n",
       "      <th>f0</th>\n",
       "      <th>f1</th>\n",
       "      <th>f2</th>\n",
       "      <th>product</th>\n",
       "    </tr>\n",
       "  </thead>\n",
       "  <tbody>\n",
       "    <tr>\n",
       "      <th>count</th>\n",
       "      <td>100000.000000</td>\n",
       "      <td>100000.000000</td>\n",
       "      <td>100000.000000</td>\n",
       "      <td>100000.000000</td>\n",
       "    </tr>\n",
       "    <tr>\n",
       "      <th>mean</th>\n",
       "      <td>0.500419</td>\n",
       "      <td>0.250143</td>\n",
       "      <td>2.502647</td>\n",
       "      <td>92.500000</td>\n",
       "    </tr>\n",
       "    <tr>\n",
       "      <th>std</th>\n",
       "      <td>0.871832</td>\n",
       "      <td>0.504433</td>\n",
       "      <td>3.248248</td>\n",
       "      <td>44.288691</td>\n",
       "    </tr>\n",
       "    <tr>\n",
       "      <th>min</th>\n",
       "      <td>-1.408605</td>\n",
       "      <td>-0.848218</td>\n",
       "      <td>-12.088328</td>\n",
       "      <td>0.000000</td>\n",
       "    </tr>\n",
       "    <tr>\n",
       "      <th>25%</th>\n",
       "      <td>-0.072580</td>\n",
       "      <td>-0.200881</td>\n",
       "      <td>0.287748</td>\n",
       "      <td>56.497507</td>\n",
       "    </tr>\n",
       "    <tr>\n",
       "      <th>50%</th>\n",
       "      <td>0.502360</td>\n",
       "      <td>0.250252</td>\n",
       "      <td>2.515969</td>\n",
       "      <td>91.849972</td>\n",
       "    </tr>\n",
       "    <tr>\n",
       "      <th>75%</th>\n",
       "      <td>1.073581</td>\n",
       "      <td>0.700646</td>\n",
       "      <td>4.715088</td>\n",
       "      <td>128.564089</td>\n",
       "    </tr>\n",
       "    <tr>\n",
       "      <th>max</th>\n",
       "      <td>2.362331</td>\n",
       "      <td>1.343769</td>\n",
       "      <td>16.003790</td>\n",
       "      <td>185.364347</td>\n",
       "    </tr>\n",
       "  </tbody>\n",
       "</table>\n",
       "</div>"
      ],
      "text/plain": [
       "                  f0             f1             f2        product\n",
       "count  100000.000000  100000.000000  100000.000000  100000.000000\n",
       "mean        0.500419       0.250143       2.502647      92.500000\n",
       "std         0.871832       0.504433       3.248248      44.288691\n",
       "min        -1.408605      -0.848218     -12.088328       0.000000\n",
       "25%        -0.072580      -0.200881       0.287748      56.497507\n",
       "50%         0.502360       0.250252       2.515969      91.849972\n",
       "75%         1.073581       0.700646       4.715088     128.564089\n",
       "max         2.362331       1.343769      16.003790     185.364347"
      ]
     },
     "execution_count": 4,
     "metadata": {},
     "output_type": "execute_result"
    }
   ],
   "source": [
    "# visualizando o perfil dos dados\n",
    "data0.describe()"
   ]
  },
  {
   "cell_type": "code",
   "execution_count": 5,
   "metadata": {
    "scrolled": false
   },
   "outputs": [
    {
     "name": "stdout",
     "output_type": "stream",
     "text": [
      "<class 'pandas.core.frame.DataFrame'>\n",
      "RangeIndex: 100000 entries, 0 to 99999\n",
      "Data columns (total 5 columns):\n",
      " #   Column   Non-Null Count   Dtype  \n",
      "---  ------   --------------   -----  \n",
      " 0   id       100000 non-null  object \n",
      " 1   f0       100000 non-null  float64\n",
      " 2   f1       100000 non-null  float64\n",
      " 3   f2       100000 non-null  float64\n",
      " 4   product  100000 non-null  float64\n",
      "dtypes: float64(4), object(1)\n",
      "memory usage: 3.8+ MB\n"
     ]
    }
   ],
   "source": [
    "# visualiando tipo de dados\n",
    "data0.info()"
   ]
  },
  {
   "cell_type": "code",
   "execution_count": 6,
   "metadata": {
    "scrolled": false
   },
   "outputs": [
    {
     "data": {
      "text/html": [
       "<div>\n",
       "<style scoped>\n",
       "    .dataframe tbody tr th:only-of-type {\n",
       "        vertical-align: middle;\n",
       "    }\n",
       "\n",
       "    .dataframe tbody tr th {\n",
       "        vertical-align: top;\n",
       "    }\n",
       "\n",
       "    .dataframe thead th {\n",
       "        text-align: right;\n",
       "    }\n",
       "</style>\n",
       "<table border=\"1\" class=\"dataframe\">\n",
       "  <thead>\n",
       "    <tr style=\"text-align: right;\">\n",
       "      <th></th>\n",
       "      <th>id</th>\n",
       "      <th>f0</th>\n",
       "      <th>f1</th>\n",
       "      <th>f2</th>\n",
       "      <th>product</th>\n",
       "    </tr>\n",
       "  </thead>\n",
       "  <tbody>\n",
       "    <tr>\n",
       "      <th>98713</th>\n",
       "      <td>bnPBl</td>\n",
       "      <td>-13.095771</td>\n",
       "      <td>-3.989793</td>\n",
       "      <td>2.999668</td>\n",
       "      <td>84.038886</td>\n",
       "    </tr>\n",
       "    <tr>\n",
       "      <th>11608</th>\n",
       "      <td>ltxqx</td>\n",
       "      <td>-9.338891</td>\n",
       "      <td>-5.366082</td>\n",
       "      <td>1.999799</td>\n",
       "      <td>57.085625</td>\n",
       "    </tr>\n",
       "    <tr>\n",
       "      <th>17344</th>\n",
       "      <td>RmJnt</td>\n",
       "      <td>4.892973</td>\n",
       "      <td>-5.735206</td>\n",
       "      <td>3.996408</td>\n",
       "      <td>107.813044</td>\n",
       "    </tr>\n",
       "    <tr>\n",
       "      <th>56985</th>\n",
       "      <td>oHUg4</td>\n",
       "      <td>1.592092</td>\n",
       "      <td>-3.957737</td>\n",
       "      <td>3.994863</td>\n",
       "      <td>107.813044</td>\n",
       "    </tr>\n",
       "    <tr>\n",
       "      <th>44460</th>\n",
       "      <td>l50UV</td>\n",
       "      <td>7.704174</td>\n",
       "      <td>-3.618845</td>\n",
       "      <td>0.998205</td>\n",
       "      <td>26.953261</td>\n",
       "    </tr>\n",
       "    <tr>\n",
       "      <th>87766</th>\n",
       "      <td>1X6o2</td>\n",
       "      <td>6.494558</td>\n",
       "      <td>-9.272385</td>\n",
       "      <td>-0.006962</td>\n",
       "      <td>0.000000</td>\n",
       "    </tr>\n",
       "    <tr>\n",
       "      <th>28431</th>\n",
       "      <td>OuuXh</td>\n",
       "      <td>-7.402527</td>\n",
       "      <td>-6.073257</td>\n",
       "      <td>2.003982</td>\n",
       "      <td>57.085625</td>\n",
       "    </tr>\n",
       "    <tr>\n",
       "      <th>87627</th>\n",
       "      <td>dDdp3</td>\n",
       "      <td>0.269668</td>\n",
       "      <td>-7.779642</td>\n",
       "      <td>0.997263</td>\n",
       "      <td>26.953261</td>\n",
       "    </tr>\n",
       "    <tr>\n",
       "      <th>51488</th>\n",
       "      <td>ZVUdJ</td>\n",
       "      <td>-2.770199</td>\n",
       "      <td>-5.782044</td>\n",
       "      <td>2.003780</td>\n",
       "      <td>57.085625</td>\n",
       "    </tr>\n",
       "    <tr>\n",
       "      <th>97393</th>\n",
       "      <td>mECh5</td>\n",
       "      <td>-6.693929</td>\n",
       "      <td>-9.425214</td>\n",
       "      <td>3.989570</td>\n",
       "      <td>110.992147</td>\n",
       "    </tr>\n",
       "  </tbody>\n",
       "</table>\n",
       "</div>"
      ],
      "text/plain": [
       "          id         f0        f1        f2     product\n",
       "98713  bnPBl -13.095771 -3.989793  2.999668   84.038886\n",
       "11608  ltxqx  -9.338891 -5.366082  1.999799   57.085625\n",
       "17344  RmJnt   4.892973 -5.735206  3.996408  107.813044\n",
       "56985  oHUg4   1.592092 -3.957737  3.994863  107.813044\n",
       "44460  l50UV   7.704174 -3.618845  0.998205   26.953261\n",
       "87766  1X6o2   6.494558 -9.272385 -0.006962    0.000000\n",
       "28431  OuuXh  -7.402527 -6.073257  2.003982   57.085625\n",
       "87627  dDdp3   0.269668 -7.779642  0.997263   26.953261\n",
       "51488  ZVUdJ  -2.770199 -5.782044  2.003780   57.085625\n",
       "97393  mECh5  -6.693929 -9.425214  3.989570  110.992147"
      ]
     },
     "execution_count": 6,
     "metadata": {},
     "output_type": "execute_result"
    }
   ],
   "source": [
    "# visualizando os dados\n",
    "data1.sample(10)"
   ]
  },
  {
   "cell_type": "code",
   "execution_count": 7,
   "metadata": {},
   "outputs": [
    {
     "data": {
      "text/html": [
       "<div>\n",
       "<style scoped>\n",
       "    .dataframe tbody tr th:only-of-type {\n",
       "        vertical-align: middle;\n",
       "    }\n",
       "\n",
       "    .dataframe tbody tr th {\n",
       "        vertical-align: top;\n",
       "    }\n",
       "\n",
       "    .dataframe thead th {\n",
       "        text-align: right;\n",
       "    }\n",
       "</style>\n",
       "<table border=\"1\" class=\"dataframe\">\n",
       "  <thead>\n",
       "    <tr style=\"text-align: right;\">\n",
       "      <th></th>\n",
       "      <th>f0</th>\n",
       "      <th>f1</th>\n",
       "      <th>f2</th>\n",
       "      <th>product</th>\n",
       "    </tr>\n",
       "  </thead>\n",
       "  <tbody>\n",
       "    <tr>\n",
       "      <th>count</th>\n",
       "      <td>100000.000000</td>\n",
       "      <td>100000.000000</td>\n",
       "      <td>100000.000000</td>\n",
       "      <td>100000.000000</td>\n",
       "    </tr>\n",
       "    <tr>\n",
       "      <th>mean</th>\n",
       "      <td>1.141296</td>\n",
       "      <td>-4.796579</td>\n",
       "      <td>2.494541</td>\n",
       "      <td>68.825000</td>\n",
       "    </tr>\n",
       "    <tr>\n",
       "      <th>std</th>\n",
       "      <td>8.965932</td>\n",
       "      <td>5.119872</td>\n",
       "      <td>1.703572</td>\n",
       "      <td>45.944423</td>\n",
       "    </tr>\n",
       "    <tr>\n",
       "      <th>min</th>\n",
       "      <td>-31.609576</td>\n",
       "      <td>-26.358598</td>\n",
       "      <td>-0.018144</td>\n",
       "      <td>0.000000</td>\n",
       "    </tr>\n",
       "    <tr>\n",
       "      <th>25%</th>\n",
       "      <td>-6.298551</td>\n",
       "      <td>-8.267985</td>\n",
       "      <td>1.000021</td>\n",
       "      <td>26.953261</td>\n",
       "    </tr>\n",
       "    <tr>\n",
       "      <th>50%</th>\n",
       "      <td>1.153055</td>\n",
       "      <td>-4.813172</td>\n",
       "      <td>2.011479</td>\n",
       "      <td>57.085625</td>\n",
       "    </tr>\n",
       "    <tr>\n",
       "      <th>75%</th>\n",
       "      <td>8.621015</td>\n",
       "      <td>-1.332816</td>\n",
       "      <td>3.999904</td>\n",
       "      <td>107.813044</td>\n",
       "    </tr>\n",
       "    <tr>\n",
       "      <th>max</th>\n",
       "      <td>29.421755</td>\n",
       "      <td>18.734063</td>\n",
       "      <td>5.019721</td>\n",
       "      <td>137.945408</td>\n",
       "    </tr>\n",
       "  </tbody>\n",
       "</table>\n",
       "</div>"
      ],
      "text/plain": [
       "                  f0             f1             f2        product\n",
       "count  100000.000000  100000.000000  100000.000000  100000.000000\n",
       "mean        1.141296      -4.796579       2.494541      68.825000\n",
       "std         8.965932       5.119872       1.703572      45.944423\n",
       "min       -31.609576     -26.358598      -0.018144       0.000000\n",
       "25%        -6.298551      -8.267985       1.000021      26.953261\n",
       "50%         1.153055      -4.813172       2.011479      57.085625\n",
       "75%         8.621015      -1.332816       3.999904     107.813044\n",
       "max        29.421755      18.734063       5.019721     137.945408"
      ]
     },
     "execution_count": 7,
     "metadata": {},
     "output_type": "execute_result"
    }
   ],
   "source": [
    "# visualizando o perfil dos dados\n",
    "data1.describe()"
   ]
  },
  {
   "cell_type": "code",
   "execution_count": 8,
   "metadata": {
    "scrolled": false
   },
   "outputs": [
    {
     "name": "stdout",
     "output_type": "stream",
     "text": [
      "<class 'pandas.core.frame.DataFrame'>\n",
      "RangeIndex: 100000 entries, 0 to 99999\n",
      "Data columns (total 5 columns):\n",
      " #   Column   Non-Null Count   Dtype  \n",
      "---  ------   --------------   -----  \n",
      " 0   id       100000 non-null  object \n",
      " 1   f0       100000 non-null  float64\n",
      " 2   f1       100000 non-null  float64\n",
      " 3   f2       100000 non-null  float64\n",
      " 4   product  100000 non-null  float64\n",
      "dtypes: float64(4), object(1)\n",
      "memory usage: 3.8+ MB\n"
     ]
    }
   ],
   "source": [
    "# visualiando tipo de dados\n",
    "data1.info()"
   ]
  },
  {
   "cell_type": "code",
   "execution_count": 9,
   "metadata": {
    "scrolled": true
   },
   "outputs": [
    {
     "data": {
      "text/html": [
       "<div>\n",
       "<style scoped>\n",
       "    .dataframe tbody tr th:only-of-type {\n",
       "        vertical-align: middle;\n",
       "    }\n",
       "\n",
       "    .dataframe tbody tr th {\n",
       "        vertical-align: top;\n",
       "    }\n",
       "\n",
       "    .dataframe thead th {\n",
       "        text-align: right;\n",
       "    }\n",
       "</style>\n",
       "<table border=\"1\" class=\"dataframe\">\n",
       "  <thead>\n",
       "    <tr style=\"text-align: right;\">\n",
       "      <th></th>\n",
       "      <th>id</th>\n",
       "      <th>f0</th>\n",
       "      <th>f1</th>\n",
       "      <th>f2</th>\n",
       "      <th>product</th>\n",
       "    </tr>\n",
       "  </thead>\n",
       "  <tbody>\n",
       "    <tr>\n",
       "      <th>97409</th>\n",
       "      <td>YC361</td>\n",
       "      <td>0.987883</td>\n",
       "      <td>-1.141422</td>\n",
       "      <td>2.001867</td>\n",
       "      <td>28.314416</td>\n",
       "    </tr>\n",
       "    <tr>\n",
       "      <th>62267</th>\n",
       "      <td>eidcj</td>\n",
       "      <td>0.176188</td>\n",
       "      <td>-2.114266</td>\n",
       "      <td>-3.756640</td>\n",
       "      <td>70.958948</td>\n",
       "    </tr>\n",
       "    <tr>\n",
       "      <th>26238</th>\n",
       "      <td>2gsQu</td>\n",
       "      <td>-0.736528</td>\n",
       "      <td>-0.232453</td>\n",
       "      <td>4.144697</td>\n",
       "      <td>40.182011</td>\n",
       "    </tr>\n",
       "    <tr>\n",
       "      <th>54446</th>\n",
       "      <td>rsSKN</td>\n",
       "      <td>2.306261</td>\n",
       "      <td>-1.753967</td>\n",
       "      <td>4.804002</td>\n",
       "      <td>113.061424</td>\n",
       "    </tr>\n",
       "    <tr>\n",
       "      <th>5981</th>\n",
       "      <td>pBWrt</td>\n",
       "      <td>-1.207290</td>\n",
       "      <td>-1.399623</td>\n",
       "      <td>2.250326</td>\n",
       "      <td>103.983573</td>\n",
       "    </tr>\n",
       "    <tr>\n",
       "      <th>60044</th>\n",
       "      <td>L71Up</td>\n",
       "      <td>0.447071</td>\n",
       "      <td>-2.747868</td>\n",
       "      <td>1.492316</td>\n",
       "      <td>72.224125</td>\n",
       "    </tr>\n",
       "    <tr>\n",
       "      <th>99715</th>\n",
       "      <td>JgckM</td>\n",
       "      <td>0.171557</td>\n",
       "      <td>-1.329390</td>\n",
       "      <td>1.940008</td>\n",
       "      <td>110.768606</td>\n",
       "    </tr>\n",
       "    <tr>\n",
       "      <th>35546</th>\n",
       "      <td>N1slQ</td>\n",
       "      <td>1.212770</td>\n",
       "      <td>-2.380475</td>\n",
       "      <td>-4.214727</td>\n",
       "      <td>45.474360</td>\n",
       "    </tr>\n",
       "    <tr>\n",
       "      <th>96127</th>\n",
       "      <td>sFNga</td>\n",
       "      <td>2.020882</td>\n",
       "      <td>-1.247203</td>\n",
       "      <td>4.827736</td>\n",
       "      <td>124.740785</td>\n",
       "    </tr>\n",
       "    <tr>\n",
       "      <th>99554</th>\n",
       "      <td>cEzja</td>\n",
       "      <td>-4.082195</td>\n",
       "      <td>1.855784</td>\n",
       "      <td>-2.871362</td>\n",
       "      <td>40.688515</td>\n",
       "    </tr>\n",
       "  </tbody>\n",
       "</table>\n",
       "</div>"
      ],
      "text/plain": [
       "          id        f0        f1        f2     product\n",
       "97409  YC361  0.987883 -1.141422  2.001867   28.314416\n",
       "62267  eidcj  0.176188 -2.114266 -3.756640   70.958948\n",
       "26238  2gsQu -0.736528 -0.232453  4.144697   40.182011\n",
       "54446  rsSKN  2.306261 -1.753967  4.804002  113.061424\n",
       "5981   pBWrt -1.207290 -1.399623  2.250326  103.983573\n",
       "60044  L71Up  0.447071 -2.747868  1.492316   72.224125\n",
       "99715  JgckM  0.171557 -1.329390  1.940008  110.768606\n",
       "35546  N1slQ  1.212770 -2.380475 -4.214727   45.474360\n",
       "96127  sFNga  2.020882 -1.247203  4.827736  124.740785\n",
       "99554  cEzja -4.082195  1.855784 -2.871362   40.688515"
      ]
     },
     "execution_count": 9,
     "metadata": {},
     "output_type": "execute_result"
    }
   ],
   "source": [
    "# visualizando os dados\n",
    "data2.sample(10)"
   ]
  },
  {
   "cell_type": "code",
   "execution_count": 10,
   "metadata": {},
   "outputs": [
    {
     "data": {
      "text/html": [
       "<div>\n",
       "<style scoped>\n",
       "    .dataframe tbody tr th:only-of-type {\n",
       "        vertical-align: middle;\n",
       "    }\n",
       "\n",
       "    .dataframe tbody tr th {\n",
       "        vertical-align: top;\n",
       "    }\n",
       "\n",
       "    .dataframe thead th {\n",
       "        text-align: right;\n",
       "    }\n",
       "</style>\n",
       "<table border=\"1\" class=\"dataframe\">\n",
       "  <thead>\n",
       "    <tr style=\"text-align: right;\">\n",
       "      <th></th>\n",
       "      <th>f0</th>\n",
       "      <th>f1</th>\n",
       "      <th>f2</th>\n",
       "      <th>product</th>\n",
       "    </tr>\n",
       "  </thead>\n",
       "  <tbody>\n",
       "    <tr>\n",
       "      <th>count</th>\n",
       "      <td>100000.000000</td>\n",
       "      <td>100000.000000</td>\n",
       "      <td>100000.000000</td>\n",
       "      <td>100000.000000</td>\n",
       "    </tr>\n",
       "    <tr>\n",
       "      <th>mean</th>\n",
       "      <td>0.002023</td>\n",
       "      <td>-0.002081</td>\n",
       "      <td>2.495128</td>\n",
       "      <td>95.000000</td>\n",
       "    </tr>\n",
       "    <tr>\n",
       "      <th>std</th>\n",
       "      <td>1.732045</td>\n",
       "      <td>1.730417</td>\n",
       "      <td>3.473445</td>\n",
       "      <td>44.749921</td>\n",
       "    </tr>\n",
       "    <tr>\n",
       "      <th>min</th>\n",
       "      <td>-8.760004</td>\n",
       "      <td>-7.084020</td>\n",
       "      <td>-11.970335</td>\n",
       "      <td>0.000000</td>\n",
       "    </tr>\n",
       "    <tr>\n",
       "      <th>25%</th>\n",
       "      <td>-1.162288</td>\n",
       "      <td>-1.174820</td>\n",
       "      <td>0.130359</td>\n",
       "      <td>59.450441</td>\n",
       "    </tr>\n",
       "    <tr>\n",
       "      <th>50%</th>\n",
       "      <td>0.009424</td>\n",
       "      <td>-0.009482</td>\n",
       "      <td>2.484236</td>\n",
       "      <td>94.925613</td>\n",
       "    </tr>\n",
       "    <tr>\n",
       "      <th>75%</th>\n",
       "      <td>1.158535</td>\n",
       "      <td>1.163678</td>\n",
       "      <td>4.858794</td>\n",
       "      <td>130.595027</td>\n",
       "    </tr>\n",
       "    <tr>\n",
       "      <th>max</th>\n",
       "      <td>7.238262</td>\n",
       "      <td>7.844801</td>\n",
       "      <td>16.739402</td>\n",
       "      <td>190.029838</td>\n",
       "    </tr>\n",
       "  </tbody>\n",
       "</table>\n",
       "</div>"
      ],
      "text/plain": [
       "                  f0             f1             f2        product\n",
       "count  100000.000000  100000.000000  100000.000000  100000.000000\n",
       "mean        0.002023      -0.002081       2.495128      95.000000\n",
       "std         1.732045       1.730417       3.473445      44.749921\n",
       "min        -8.760004      -7.084020     -11.970335       0.000000\n",
       "25%        -1.162288      -1.174820       0.130359      59.450441\n",
       "50%         0.009424      -0.009482       2.484236      94.925613\n",
       "75%         1.158535       1.163678       4.858794     130.595027\n",
       "max         7.238262       7.844801      16.739402     190.029838"
      ]
     },
     "execution_count": 10,
     "metadata": {},
     "output_type": "execute_result"
    }
   ],
   "source": [
    "# visualizando o perfil dos dados\n",
    "data2.describe()"
   ]
  },
  {
   "cell_type": "code",
   "execution_count": 11,
   "metadata": {
    "scrolled": false
   },
   "outputs": [
    {
     "name": "stdout",
     "output_type": "stream",
     "text": [
      "<class 'pandas.core.frame.DataFrame'>\n",
      "RangeIndex: 100000 entries, 0 to 99999\n",
      "Data columns (total 5 columns):\n",
      " #   Column   Non-Null Count   Dtype  \n",
      "---  ------   --------------   -----  \n",
      " 0   id       100000 non-null  object \n",
      " 1   f0       100000 non-null  float64\n",
      " 2   f1       100000 non-null  float64\n",
      " 3   f2       100000 non-null  float64\n",
      " 4   product  100000 non-null  float64\n",
      "dtypes: float64(4), object(1)\n",
      "memory usage: 3.8+ MB\n"
     ]
    }
   ],
   "source": [
    "# visualiando tipo de dados\n",
    "data2.info()"
   ]
  },
  {
   "cell_type": "code",
   "execution_count": 12,
   "metadata": {},
   "outputs": [
    {
     "name": "stdout",
     "output_type": "stream",
     "text": [
      "NaN columns data0:  []\n",
      "NaN columns data1:  []\n",
      "NaN columns data2:  []\n"
     ]
    }
   ],
   "source": [
    "# checando valores vazios\n",
    "nan_columns0 = data0.columns[data0.isnull().any()].tolist()\n",
    "nan_columns1 = data1.columns[data1.isnull().any()].tolist()\n",
    "nan_columns2 = data2.columns[data2.isnull().any()].tolist()\n",
    "print(\"NaN columns data0: \",nan_columns0)\n",
    "print(\"NaN columns data1: \",nan_columns1)\n",
    "print(\"NaN columns data2: \",nan_columns2)"
   ]
  },
  {
   "cell_type": "code",
   "execution_count": 13,
   "metadata": {},
   "outputs": [
    {
     "name": "stdout",
     "output_type": "stream",
     "text": [
      "duplicados no data0 0\n",
      "duplicados no data1 0\n",
      "duplicados no data2 0\n"
     ]
    }
   ],
   "source": [
    "# checando valores duplicados explícitos\n",
    "\n",
    "print(\"duplicados no data0\",data0.duplicated().sum())\n",
    "print(\"duplicados no data1\",data1.duplicated().sum())\n",
    "print(\"duplicados no data2\",data2.duplicated().sum())"
   ]
  },
  {
   "cell_type": "markdown",
   "metadata": {},
   "source": [
    "Conclusions:\n",
    "- All three dataframes have exactly the same structure in terms of columns, column names, and data types.\n",
    "- No missing or duplicate values were identified in any of the dataframes.\n",
    "- We will need to scale the features as they have very different scales between f0, f1, and f2.\n",
    "- Initially, no further adjustments are needed for the data, and we can proceed with the analysis."
   ]
  },
  {
   "cell_type": "code",
   "execution_count": 14,
   "metadata": {
    "scrolled": false
   },
   "outputs": [
    {
     "name": "stdout",
     "output_type": "stream",
     "text": [
      "Regressão Linear\n",
      "REQM = 37.58\n",
      "R2 = 0.28\n",
      "MAE = 30.92\n",
      "Volume Médio Previsto = 92.59\n"
     ]
    },
    {
     "name": "stderr",
     "output_type": "stream",
     "text": [
      "/tmp/ipykernel_62/2002691911.py:17: SettingWithCopyWarning: \n",
      "A value is trying to be set on a copy of a slice from a DataFrame.\n",
      "Try using .loc[row_indexer,col_indexer] = value instead\n",
      "\n",
      "See the caveats in the documentation: https://pandas.pydata.org/pandas-docs/stable/user_guide/indexing.html#returning-a-view-versus-a-copy\n",
      "  features_train[numeric] = scaler.transform(features_train[numeric])\n",
      "/opt/conda/envs/python3/lib/python3.9/site-packages/pandas/core/indexing.py:1637: SettingWithCopyWarning: \n",
      "A value is trying to be set on a copy of a slice from a DataFrame\n",
      "\n",
      "See the caveats in the documentation: https://pandas.pydata.org/pandas-docs/stable/user_guide/indexing.html#returning-a-view-versus-a-copy\n",
      "  self._setitem_single_block(indexer, value, name)\n",
      "/opt/conda/envs/python3/lib/python3.9/site-packages/pandas/core/indexing.py:692: SettingWithCopyWarning: \n",
      "A value is trying to be set on a copy of a slice from a DataFrame\n",
      "\n",
      "See the caveats in the documentation: https://pandas.pydata.org/pandas-docs/stable/user_guide/indexing.html#returning-a-view-versus-a-copy\n",
      "  iloc._setitem_with_indexer(indexer, value, self.name)\n",
      "/tmp/ipykernel_62/2002691911.py:18: SettingWithCopyWarning: \n",
      "A value is trying to be set on a copy of a slice from a DataFrame.\n",
      "Try using .loc[row_indexer,col_indexer] = value instead\n",
      "\n",
      "See the caveats in the documentation: https://pandas.pydata.org/pandas-docs/stable/user_guide/indexing.html#returning-a-view-versus-a-copy\n",
      "  features_valid[numeric] = scaler.transform(features_valid[numeric])\n",
      "/opt/conda/envs/python3/lib/python3.9/site-packages/pandas/core/indexing.py:1637: SettingWithCopyWarning: \n",
      "A value is trying to be set on a copy of a slice from a DataFrame\n",
      "\n",
      "See the caveats in the documentation: https://pandas.pydata.org/pandas-docs/stable/user_guide/indexing.html#returning-a-view-versus-a-copy\n",
      "  self._setitem_single_block(indexer, value, name)\n",
      "/opt/conda/envs/python3/lib/python3.9/site-packages/pandas/core/indexing.py:692: SettingWithCopyWarning: \n",
      "A value is trying to be set on a copy of a slice from a DataFrame\n",
      "\n",
      "See the caveats in the documentation: https://pandas.pydata.org/pandas-docs/stable/user_guide/indexing.html#returning-a-view-versus-a-copy\n",
      "  iloc._setitem_with_indexer(indexer, value, self.name)\n"
     ]
    }
   ],
   "source": [
    "# Preparando dados para modelo de regressão linear em geo_data_0.csv\n",
    "\n",
    "target = data0[\"product\"]\n",
    "features = data0.drop([\"product\",\"id\"],axis=1)\n",
    "\n",
    "# criando conjunto de treinamento e validação\n",
    "features_train, features_valid, target_train, target_valid = train_test_split(\n",
    "    features, target, test_size=0.25, random_state=12345\n",
    ")\n",
    "\n",
    "# escalando as características\n",
    "numeric = ['f0','f1','f2']\n",
    "\n",
    "scaler = StandardScaler()\n",
    "scaler.fit(features_train[numeric])\n",
    "\n",
    "features_train[numeric] = scaler.transform(features_train[numeric])\n",
    "features_valid[numeric] = scaler.transform(features_valid[numeric])\n",
    "\n",
    "\n",
    "# instanciando o modelo\n",
    "model = LinearRegression()\n",
    "\n",
    "# treinando o modelo\n",
    "model.fit(features_train,target_train)\n",
    "\n",
    "# calculando previsões conjunto de validação\n",
    "predicted_valid = model.predict(features_valid)\n",
    "\n",
    "# calculando mse\n",
    "mse = mean_squared_error(target_valid, predicted_valid, squared=False)\n",
    "\n",
    "# calculando r2\n",
    "r2 = r2_score(target_valid,predicted_valid)\n",
    "\n",
    "# calculando mae\n",
    "mae = mean_absolute_error(target_valid,predicted_valid)\n",
    "\n",
    "# calculando volume médio previso\n",
    "vmp = predicted_valid.mean()\n",
    "\n",
    "# imprimindo resultados\n",
    "print('Regressão Linear')\n",
    "print(f'REQM = {mse:.2f}')\n",
    "print(f'R2 = {r2:.2f}')\n",
    "print(f'MAE = {mae:.2f}')\n",
    "print(f'Volume Médio Previsto = {vmp:.2f}')"
   ]
  },
  {
   "cell_type": "code",
   "execution_count": 15,
   "metadata": {},
   "outputs": [],
   "source": [
    "# transformando passos anteriores em uma função\n",
    "\n",
    "def analyze_data(df):\n",
    "\n",
    "    target = df[\"product\"]\n",
    "    features = df.drop([\"product\",\"id\"],axis=1)\n",
    "\n",
    "    # criando conjunto de treinamento e validação\n",
    "    features_train, features_valid, target_train, target_valid = train_test_split(\n",
    "        features, target, test_size=0.25, random_state=12345\n",
    "    )\n",
    "\n",
    "    # escalando as características\n",
    "    numeric = ['f0','f1','f2']\n",
    "\n",
    "    scaler = StandardScaler()\n",
    "    scaler.fit(features_train[numeric])\n",
    "\n",
    "    features_train[numeric] = scaler.transform(features_train[numeric])\n",
    "    features_valid[numeric] = scaler.transform(features_valid[numeric])\n",
    "\n",
    "\n",
    "    # instanciando o modelo\n",
    "    model = LinearRegression()\n",
    "\n",
    "    # treinando o modelo\n",
    "    model.fit(features_train,target_train)\n",
    "\n",
    "    # calculando previsões conjunto de validação\n",
    "    predicted_valid = model.predict(features_valid)\n",
    "\n",
    "    # calculando mse\n",
    "    mse = mean_squared_error(target_valid, predicted_valid, squared=False)\n",
    "\n",
    "    # calculando r2\n",
    "    r2 = r2_score(target_valid,predicted_valid)\n",
    "\n",
    "    # calculando mae\n",
    "    mae = mean_absolute_error(target_valid,predicted_valid)\n",
    "\n",
    "    # calculando volume médio previso\n",
    "    vmp = predicted_valid.mean()\n",
    "\n",
    "    # imprimindo resultados\n",
    "    print('Regressão Linear')\n",
    "    print(f'REQM = {mse:.2f}')\n",
    "    print(f'R2 = {r2:.2f}')\n",
    "    print(f'MAE = {mae:.2f}')\n",
    "    print(f'Volume Médio Previsto = {vmp:.2f}')\n",
    "    \n",
    "    return pd.Series(predicted_valid),target_valid.reset_index(drop=True)"
   ]
  },
  {
   "cell_type": "code",
   "execution_count": 16,
   "metadata": {
    "scrolled": false
   },
   "outputs": [
    {
     "name": "stdout",
     "output_type": "stream",
     "text": [
      "Regressão Linear\n",
      "REQM = 37.58\n",
      "R2 = 0.28\n",
      "MAE = 30.92\n",
      "Volume Médio Previsto = 92.59\n"
     ]
    },
    {
     "name": "stderr",
     "output_type": "stream",
     "text": [
      "/tmp/ipykernel_62/3058925487.py:19: SettingWithCopyWarning: \n",
      "A value is trying to be set on a copy of a slice from a DataFrame.\n",
      "Try using .loc[row_indexer,col_indexer] = value instead\n",
      "\n",
      "See the caveats in the documentation: https://pandas.pydata.org/pandas-docs/stable/user_guide/indexing.html#returning-a-view-versus-a-copy\n",
      "  features_train[numeric] = scaler.transform(features_train[numeric])\n",
      "/opt/conda/envs/python3/lib/python3.9/site-packages/pandas/core/indexing.py:1637: SettingWithCopyWarning: \n",
      "A value is trying to be set on a copy of a slice from a DataFrame\n",
      "\n",
      "See the caveats in the documentation: https://pandas.pydata.org/pandas-docs/stable/user_guide/indexing.html#returning-a-view-versus-a-copy\n",
      "  self._setitem_single_block(indexer, value, name)\n",
      "/opt/conda/envs/python3/lib/python3.9/site-packages/pandas/core/indexing.py:692: SettingWithCopyWarning: \n",
      "A value is trying to be set on a copy of a slice from a DataFrame\n",
      "\n",
      "See the caveats in the documentation: https://pandas.pydata.org/pandas-docs/stable/user_guide/indexing.html#returning-a-view-versus-a-copy\n",
      "  iloc._setitem_with_indexer(indexer, value, self.name)\n",
      "/tmp/ipykernel_62/3058925487.py:20: SettingWithCopyWarning: \n",
      "A value is trying to be set on a copy of a slice from a DataFrame.\n",
      "Try using .loc[row_indexer,col_indexer] = value instead\n",
      "\n",
      "See the caveats in the documentation: https://pandas.pydata.org/pandas-docs/stable/user_guide/indexing.html#returning-a-view-versus-a-copy\n",
      "  features_valid[numeric] = scaler.transform(features_valid[numeric])\n",
      "/opt/conda/envs/python3/lib/python3.9/site-packages/pandas/core/indexing.py:1637: SettingWithCopyWarning: \n",
      "A value is trying to be set on a copy of a slice from a DataFrame\n",
      "\n",
      "See the caveats in the documentation: https://pandas.pydata.org/pandas-docs/stable/user_guide/indexing.html#returning-a-view-versus-a-copy\n",
      "  self._setitem_single_block(indexer, value, name)\n",
      "/opt/conda/envs/python3/lib/python3.9/site-packages/pandas/core/indexing.py:692: SettingWithCopyWarning: \n",
      "A value is trying to be set on a copy of a slice from a DataFrame\n",
      "\n",
      "See the caveats in the documentation: https://pandas.pydata.org/pandas-docs/stable/user_guide/indexing.html#returning-a-view-versus-a-copy\n",
      "  iloc._setitem_with_indexer(indexer, value, self.name)\n"
     ]
    }
   ],
   "source": [
    "# rodando a função para geo_data_0\n",
    "\n",
    "predicted_valid0, target_valid0 = analyze_data(data0)"
   ]
  },
  {
   "cell_type": "markdown",
   "metadata": {},
   "source": [
    "Conclusion: Dataset geo_data_0 has an average expected volume of 92,59, RMSE of 37,58, MAE of 30,92 and R2 of 0,28"
   ]
  },
  {
   "cell_type": "code",
   "execution_count": 17,
   "metadata": {
    "scrolled": false
   },
   "outputs": [
    {
     "name": "stdout",
     "output_type": "stream",
     "text": [
      "Regressão Linear\n",
      "REQM = 0.89\n",
      "R2 = 1.00\n",
      "MAE = 0.72\n",
      "Volume Médio Previsto = 68.73\n"
     ]
    },
    {
     "name": "stderr",
     "output_type": "stream",
     "text": [
      "/tmp/ipykernel_62/3058925487.py:19: SettingWithCopyWarning: \n",
      "A value is trying to be set on a copy of a slice from a DataFrame.\n",
      "Try using .loc[row_indexer,col_indexer] = value instead\n",
      "\n",
      "See the caveats in the documentation: https://pandas.pydata.org/pandas-docs/stable/user_guide/indexing.html#returning-a-view-versus-a-copy\n",
      "  features_train[numeric] = scaler.transform(features_train[numeric])\n",
      "/opt/conda/envs/python3/lib/python3.9/site-packages/pandas/core/indexing.py:1637: SettingWithCopyWarning: \n",
      "A value is trying to be set on a copy of a slice from a DataFrame\n",
      "\n",
      "See the caveats in the documentation: https://pandas.pydata.org/pandas-docs/stable/user_guide/indexing.html#returning-a-view-versus-a-copy\n",
      "  self._setitem_single_block(indexer, value, name)\n",
      "/opt/conda/envs/python3/lib/python3.9/site-packages/pandas/core/indexing.py:692: SettingWithCopyWarning: \n",
      "A value is trying to be set on a copy of a slice from a DataFrame\n",
      "\n",
      "See the caveats in the documentation: https://pandas.pydata.org/pandas-docs/stable/user_guide/indexing.html#returning-a-view-versus-a-copy\n",
      "  iloc._setitem_with_indexer(indexer, value, self.name)\n",
      "/tmp/ipykernel_62/3058925487.py:20: SettingWithCopyWarning: \n",
      "A value is trying to be set on a copy of a slice from a DataFrame.\n",
      "Try using .loc[row_indexer,col_indexer] = value instead\n",
      "\n",
      "See the caveats in the documentation: https://pandas.pydata.org/pandas-docs/stable/user_guide/indexing.html#returning-a-view-versus-a-copy\n",
      "  features_valid[numeric] = scaler.transform(features_valid[numeric])\n",
      "/opt/conda/envs/python3/lib/python3.9/site-packages/pandas/core/indexing.py:1637: SettingWithCopyWarning: \n",
      "A value is trying to be set on a copy of a slice from a DataFrame\n",
      "\n",
      "See the caveats in the documentation: https://pandas.pydata.org/pandas-docs/stable/user_guide/indexing.html#returning-a-view-versus-a-copy\n",
      "  self._setitem_single_block(indexer, value, name)\n",
      "/opt/conda/envs/python3/lib/python3.9/site-packages/pandas/core/indexing.py:692: SettingWithCopyWarning: \n",
      "A value is trying to be set on a copy of a slice from a DataFrame\n",
      "\n",
      "See the caveats in the documentation: https://pandas.pydata.org/pandas-docs/stable/user_guide/indexing.html#returning-a-view-versus-a-copy\n",
      "  iloc._setitem_with_indexer(indexer, value, self.name)\n"
     ]
    }
   ],
   "source": [
    "# rodando a função para geo_data_1\n",
    "\n",
    "predicted_valid1, target_valid1 = analyze_data(data1)"
   ]
  },
  {
   "cell_type": "markdown",
   "metadata": {},
   "source": [
    "Conclusion: Dataset geo_data_1 has an average expected volume of 68,73, RMSE of 0,89, MAE of 0,72 and R2 of 1,00. "
   ]
  },
  {
   "cell_type": "code",
   "execution_count": 18,
   "metadata": {
    "scrolled": false
   },
   "outputs": [
    {
     "name": "stderr",
     "output_type": "stream",
     "text": [
      "/tmp/ipykernel_62/3058925487.py:19: SettingWithCopyWarning: \n",
      "A value is trying to be set on a copy of a slice from a DataFrame.\n",
      "Try using .loc[row_indexer,col_indexer] = value instead\n",
      "\n",
      "See the caveats in the documentation: https://pandas.pydata.org/pandas-docs/stable/user_guide/indexing.html#returning-a-view-versus-a-copy\n",
      "  features_train[numeric] = scaler.transform(features_train[numeric])\n",
      "/opt/conda/envs/python3/lib/python3.9/site-packages/pandas/core/indexing.py:1637: SettingWithCopyWarning: \n",
      "A value is trying to be set on a copy of a slice from a DataFrame\n",
      "\n",
      "See the caveats in the documentation: https://pandas.pydata.org/pandas-docs/stable/user_guide/indexing.html#returning-a-view-versus-a-copy\n",
      "  self._setitem_single_block(indexer, value, name)\n",
      "/opt/conda/envs/python3/lib/python3.9/site-packages/pandas/core/indexing.py:692: SettingWithCopyWarning: \n",
      "A value is trying to be set on a copy of a slice from a DataFrame\n",
      "\n",
      "See the caveats in the documentation: https://pandas.pydata.org/pandas-docs/stable/user_guide/indexing.html#returning-a-view-versus-a-copy\n",
      "  iloc._setitem_with_indexer(indexer, value, self.name)\n",
      "/tmp/ipykernel_62/3058925487.py:20: SettingWithCopyWarning: \n",
      "A value is trying to be set on a copy of a slice from a DataFrame.\n",
      "Try using .loc[row_indexer,col_indexer] = value instead\n",
      "\n",
      "See the caveats in the documentation: https://pandas.pydata.org/pandas-docs/stable/user_guide/indexing.html#returning-a-view-versus-a-copy\n",
      "  features_valid[numeric] = scaler.transform(features_valid[numeric])\n",
      "/opt/conda/envs/python3/lib/python3.9/site-packages/pandas/core/indexing.py:1637: SettingWithCopyWarning: \n",
      "A value is trying to be set on a copy of a slice from a DataFrame\n",
      "\n",
      "See the caveats in the documentation: https://pandas.pydata.org/pandas-docs/stable/user_guide/indexing.html#returning-a-view-versus-a-copy\n",
      "  self._setitem_single_block(indexer, value, name)\n",
      "/opt/conda/envs/python3/lib/python3.9/site-packages/pandas/core/indexing.py:692: SettingWithCopyWarning: \n",
      "A value is trying to be set on a copy of a slice from a DataFrame\n",
      "\n",
      "See the caveats in the documentation: https://pandas.pydata.org/pandas-docs/stable/user_guide/indexing.html#returning-a-view-versus-a-copy\n",
      "  iloc._setitem_with_indexer(indexer, value, self.name)\n"
     ]
    },
    {
     "name": "stdout",
     "output_type": "stream",
     "text": [
      "Regressão Linear\n",
      "REQM = 40.03\n",
      "R2 = 0.21\n",
      "MAE = 32.79\n",
      "Volume Médio Previsto = 94.97\n"
     ]
    }
   ],
   "source": [
    "# rodando a função para geo_data_2\n",
    "\n",
    "predicted_valid2, target_valid2 = analyze_data(data2)"
   ]
  },
  {
   "cell_type": "markdown",
   "metadata": {},
   "source": [
    "Conclusions:\n",
    "- In the geo_data_2 dataset, we have a predicted average volume of 94.97, an RMSE of 40.03, an MAE of 32.79, and an R² of 0.21.\n",
    "- The dataset with the highest average volume is geo_data_2 (95), but it also has the highest RMSE (40).\n",
    "- geo_data_1 has a lower average volume (approximately 69) but very low dispersion (RMSE of 0.89).\n",
    "- geo_data_0 has a high average volume (93), but also a high RMSE (37.58)."
   ]
  },
  {
   "cell_type": "code",
   "execution_count": 19,
   "metadata": {},
   "outputs": [
    {
     "name": "stdout",
     "output_type": "stream",
     "text": [
      "geo_data_0\n",
      "Média: 92.50000000000001\n",
      "intervalo de confiança 95%: (92.22549756994802, 92.77450243005201)\n"
     ]
    }
   ],
   "source": [
    "# calculando intervalo de confiança para geo_data_0\n",
    "sample0 = pd.Series(data0[\"product\"])\n",
    "confidence_interval0 = st.t.interval(.95, len(sample0)-1,loc=sample0.mean(),scale=sample0.sem())\n",
    "print(\"geo_data_0\")\n",
    "print(\"Média:\",sample0.mean())\n",
    "print(\"intervalo de confiança 95%:\", confidence_interval0)"
   ]
  },
  {
   "cell_type": "code",
   "execution_count": 20,
   "metadata": {},
   "outputs": [
    {
     "name": "stdout",
     "output_type": "stream",
     "text": [
      "geo_data_1\n",
      "Média: 68.82500000000002\n",
      "intervalo de confiança 95%: (68.54023530255081, 69.10976469744922)\n"
     ]
    }
   ],
   "source": [
    "# calculando intervalo de confiança para geo_data_1\n",
    "sample1 = pd.Series(data1[\"product\"])\n",
    "confidence_interval1 = st.t.interval(.95, len(sample1)-1,loc=sample1.mean(),scale=sample1.sem())\n",
    "print(\"geo_data_1\")\n",
    "print(\"Média:\",sample1.mean())\n",
    "print(\"intervalo de confiança 95%:\", confidence_interval1)"
   ]
  },
  {
   "cell_type": "code",
   "execution_count": 21,
   "metadata": {},
   "outputs": [
    {
     "name": "stdout",
     "output_type": "stream",
     "text": [
      "geo_data_2\n",
      "Média: 95.00000000000004\n",
      "intervalo de confiança 95%: (94.72263885514018, 95.27736114485991)\n"
     ]
    }
   ],
   "source": [
    "# calculando intervalo de confiança para geo_data_2\n",
    "sample2 = pd.Series(data2[\"product\"])\n",
    "confidence_interval2 = st.t.interval(.95, len(sample2)-1,loc=sample2.mean(),scale=sample2.sem())\n",
    "print(\"geo_data_2\")\n",
    "print(\"Média:\",sample2.mean())\n",
    "print(\"intervalo de confiança 95%:\", confidence_interval2)"
   ]
  },
  {
   "cell_type": "code",
   "execution_count": 22,
   "metadata": {},
   "outputs": [],
   "source": [
    "# preparando para o cálculo do lucro\n",
    "\n",
    "# armazenando valores das variáveis para cálculo do lucro\n",
    "well_cost = 500000\n",
    "investment = 100000000\n",
    "revenue_per_unit = 4500\n",
    "wells = investment // well_cost"
   ]
  },
  {
   "cell_type": "code",
   "execution_count": 23,
   "metadata": {},
   "outputs": [
    {
     "name": "stdout",
     "output_type": "stream",
     "text": [
      "22222.222222222223\n"
     ]
    }
   ],
   "source": [
    "minimum_reserve_threshold = investment / revenue_per_unit\n",
    "print(minimum_reserve_threshold)"
   ]
  },
  {
   "cell_type": "markdown",
   "metadata": {},
   "source": [
    "Conclusion: To be viable, the minumum oil reserve of 200 wells should be 22.222,22"
   ]
  },
  {
   "cell_type": "code",
   "execution_count": 24,
   "metadata": {},
   "outputs": [
    {
     "name": "stdout",
     "output_type": "stream",
     "text": [
      "Poços com volume acima de 111.1 em geo_data_0:  36594\n",
      "Poços com volume acima de 111.1 em geo_data_1:  16537\n",
      "Poços com volume acima de 111.1 em geo_data_2:  38186\n"
     ]
    }
   ],
   "source": [
    "# Comparação do break-even da quantidade mínima por poço com o volume médio de cada região.\n",
    "\n",
    "data0_above = data0[data0[\"product\"] >= 111.1].value_counts()\n",
    "data1_above = data1[data1[\"product\"] >= 111.1].value_counts()\n",
    "data2_above = data2[data2[\"product\"] >= 111.1].value_counts()\n",
    "\n",
    "print(\"Poços com volume acima de 111.1 em geo_data_0: \", len(data0_above))\n",
    "print(\"Poços com volume acima de 111.1 em geo_data_1: \", len(data1_above))\n",
    "print(\"Poços com volume acima de 111.1 em geo_data_2: \", len(data2_above))"
   ]
  },
  {
   "cell_type": "markdown",
   "metadata": {},
   "source": [
    "Conclusions:\n",
    "- Of the three regions, geo_data_2 has the highest number of wells with a volume above the break-even point of 111.1 (38,186), followed by geo_data_0 (36,594).\n",
    "- Considering the average volume of the regions, none of them has an average volume exceeding 111.1. The closest is geo_data_2 with 95.\n",
    "- To calculate profit, we will need to select the top 200 wells, multiply their predicted volumes by the unit revenue, and subtract the drilling costs. Finally, sum the individual results to obtain the total profit."
   ]
  },
  {
   "cell_type": "code",
   "execution_count": 25,
   "metadata": {},
   "outputs": [],
   "source": [
    "# formula do lucro conforme código do revisor, alterada para receber objeto series ao inves de data frame\n",
    "\n",
    "def calculate_profit2(series):\n",
    "    best_wells = series.sort_values(ascending=False).head(200)\n",
    "    total_volume = best_wells.sum()\n",
    "    potential_profit = (total_volume * revenue_per_unit) - investment\n",
    "    return potential_profit"
   ]
  },
  {
   "cell_type": "code",
   "execution_count": 26,
   "metadata": {},
   "outputs": [],
   "source": [
    "# fórmula para cálculo do bootstrap conforme código do revisor, incluindo random_state\n",
    "\n",
    "state = np.random.RandomState(12345)\n",
    "def calculate_bootstrap2(\n",
    "    data,\n",
    "    revenue_per_barrel = revenue_per_unit,\n",
    "    investment = investment,\n",
    "    total_samples=1000,\n",
    "    sample_size=500\n",
    "):\n",
    "    profits = []\n",
    "    for _ in range(total_samples):\n",
    "        sampled_data = data.sample(n=sample_size,replace=True,random_state=state)\n",
    "        profit = calculate_profit2(sampled_data)\n",
    "        profits.append(profit)\n",
    "    return pd.Series(profits)"
   ]
  },
  {
   "cell_type": "code",
   "execution_count": 34,
   "metadata": {},
   "outputs": [
    {
     "name": "stdout",
     "output_type": "stream",
     "text": [
      "Probabilidade Lucro Negativo: 0.10%\n",
      "Lucro Médio Esperado: 3575961.28\n",
      "Intervalo de confiança: (1354639.6327668515, 5655461.438525173)\n"
     ]
    },
    {
     "data": {
      "image/png": "[encoded data removed]",
      "text/plain": [
       "<Figure size 640x480 with 1 Axes>"
      ]
     },
     "metadata": {},
     "output_type": "display_data"
    }
   ],
   "source": [
    "# bootstrapping revisado conforme código do revisor - geo_data_0\n",
    "\n",
    "import seaborn as sns\n",
    "\n",
    "bsdata0 = calculate_bootstrap2(predicted_valid0)\n",
    "\n",
    "avg_profit = np.mean(bsdata0)\n",
    "profit_conf_interval = (np.quantile(bsdata0,q=0.025),np.quantile(bsdata0,q=0.975))\n",
    "prob_neg_profit = (np.array(bsdata0) <0).mean()\n",
    "\n",
    "sns.histplot(calculate_bootstrap2(predicted_valid0))\n",
    "print(f\"Probabilidade Lucro Negativo: {prob_neg_profit:.2%}\")\n",
    "print(f\"Lucro Médio Esperado: {avg_profit:.2f}\")\n",
    "print(f\"Intervalo de confiança: {profit_conf_interval}\")"
   ]
  },
  {
   "cell_type": "code",
   "execution_count": 35,
   "metadata": {
    "scrolled": false
   },
   "outputs": [
    {
     "name": "stdout",
     "output_type": "stream",
     "text": [
      "Probabilidade Lucro Negativo: 1.40%\n",
      "Lucro Médio Esperado: 4429538.17\n",
      "Intervalo de confiança: (507396.077909229, 8271247.506828291)\n"
     ]
    },
    {
     "data": {
      "image/png": "[encoded data removed]",
      "text/plain": [
       "<Figure size 640x480 with 1 Axes>"
      ]
     },
     "metadata": {},
     "output_type": "display_data"
    }
   ],
   "source": [
    "# bootstrapping revisado conforme código do revisor - geo_data_1\n",
    "\n",
    "bsdata1 = calculate_bootstrap2(predicted_valid1)\n",
    "\n",
    "avg_profit = np.mean(bsdata1)\n",
    "profit_conf_interval = (np.quantile(bsdata1,q=0.025),np.quantile(bsdata1,q=0.975))\n",
    "prob_neg_profit = (np.array(bsdata1) <0).mean()\n",
    "\n",
    "sns.histplot(calculate_bootstrap2(predicted_valid1))\n",
    "print(f\"Probabilidade Lucro Negativo: {prob_neg_profit:.2%}\")\n",
    "print(f\"Lucro Médio Esperado: {avg_profit:.2f}\")\n",
    "print(f\"Intervalo de confiança: {profit_conf_interval}\")"
   ]
  },
  {
   "cell_type": "code",
   "execution_count": 36,
   "metadata": {},
   "outputs": [
    {
     "name": "stdout",
     "output_type": "stream",
     "text": [
      "Probabilidade Lucro Negativo: 0.20%\n",
      "Lucro Médio Esperado: 2744993.39\n",
      "Intervalo de confiança: (971048.8949257996, 4717303.194222021)\n"
     ]
    },
    {
     "data": {
      "image/png": "[encoded data removed]",
      "text/plain": [
       "<Figure size 640x480 with 1 Axes>"
      ]
     },
     "metadata": {},
     "output_type": "display_data"
    }
   ],
   "source": [
    "# bootstrapping revisado conforme código do revisor - geo_data_2\n",
    "\n",
    "bsdata2 = calculate_bootstrap2(predicted_valid2)\n",
    "\n",
    "avg_profit = np.mean(bsdata2)\n",
    "profit_conf_interval = (np.quantile(bsdata2,q=0.025),np.quantile(bsdata2,q=0.975))\n",
    "prob_neg_profit = (np.array(bsdata2) <0).mean()\n",
    "\n",
    "sns.histplot(calculate_bootstrap2(predicted_valid2))\n",
    "print(f\"Probabilidade Lucro Negativo: {prob_neg_profit:.2%}\")\n",
    "print(f\"Lucro Médio Esperado: {avg_profit:.2f}\")\n",
    "print(f\"Intervalo de confiança: {profit_conf_interval}\")"
   ]
  },
  {
   "cell_type": "markdown",
   "metadata": {},
   "source": [
    "Conclusion - Based on the bootstrapping analysis, Region 1 would be the best choice as it has the highest profit. Although Region 1 has the highest risk of loss, it is still below 2.5%, and its confidence interval contains positive values on both ends. This contradicts the earlier conclusion that suggested Region 0 as the best option, which was based solely on the expected average profit."
   ]
  },
  {
   "cell_type": "code",
   "execution_count": 28,
   "metadata": {},
   "outputs": [],
   "source": [
    "# criando uma função para calcular o lucro baseado no custo de um poço e na receita do poço (antiga)\n",
    "\n",
    "def calculate_profit(target_valid, predicted_valid):\n",
    "    # classificando as predições em ordem decrescente\n",
    "    sorted_preds = predicted_valid.sort_values(ascending=False)\n",
    "    \n",
    "    # selectionando os primeiros 200 postos das predições\n",
    "    selected = target_valid.loc[sorted_preds.index][:wells]\n",
    "    \n",
    "    # calculando lucro\n",
    "    revenue = selected.sum() * revenue_per_unit\n",
    "    cost = investment\n",
    "    profit = revenue - cost\n",
    "    return profit"
   ]
  },
  {
   "cell_type": "code",
   "execution_count": 29,
   "metadata": {
    "scrolled": false
   },
   "outputs": [
    {
     "name": "stdout",
     "output_type": "stream",
     "text": [
      "Profit region 0: 33208260.43\n",
      "Profit region 1: 24150866.97\n",
      "Profit region 2: 27103499.64\n"
     ]
    }
   ],
   "source": [
    "# calculando lucro para as 3 regiões (antiga)\n",
    "\n",
    "print(f\"Profit region 0: {calculate_profit(target_valid0,predicted_valid0):.2f}\")\n",
    "print(f\"Profit region 1: {calculate_profit(target_valid1,predicted_valid1):.2f}\")\n",
    "print(f\"Profit region 2: {calculate_profit(target_valid2,predicted_valid2):.2f}\")"
   ]
  },
  {
   "cell_type": "markdown",
   "metadata": {},
   "source": [
    "Conclusion: Based on the expected profit from the predictions, Region 0 would be the chosen region as it has the highest expected profit of $33,208,260.43."
   ]
  },
  {
   "cell_type": "code",
   "execution_count": 30,
   "metadata": {
    "scrolled": false
   },
   "outputs": [
    {
     "name": "stdout",
     "output_type": "stream",
     "text": [
      "Probabilidade Lucro Negativo: 6.00%\n",
      "Lucro Médio Esperado: 4259385.27\n",
      "Intervalo de confiança: (-1020900.9483793724, 9479763.533583675)\n"
     ]
    },
    {
     "data": {
      "image/png": "[encoded data removed]",
      "text/plain": [
       "<Figure size 640x480 with 1 Axes>"
      ]
     },
     "metadata": {},
     "output_type": "display_data"
    }
   ],
   "source": [
    "# Bootstrapping para geo_data_0 (antiga)\n",
    "\n",
    "import seaborn as sns\n",
    "\n",
    "state = np.random.RandomState(12345)\n",
    "\n",
    "sample_size = 500\n",
    "bootstrapping_size = 1000\n",
    "\n",
    "btprofit = []\n",
    "for i in range(bootstrapping_size):\n",
    "    subsample = target_valid0.sample(n=sample_size,replace=True, random_state=state)\n",
    "    sample_predicts = predicted_valid0.iloc[subsample.index]\n",
    "    btprofit.append(calculate_profit(subsample,sample_predicts))\n",
    "    \n",
    "avg_profit = np.mean(btprofit)\n",
    "profit_conf_interval = (np.quantile(btprofit,q=0.025),np.quantile(btprofit,q=0.975))\n",
    "prob_neg_profit = (np.array(btprofit) <0).mean()\n",
    "\n",
    "sns.histplot(btprofit)\n",
    "print(f\"Probabilidade Lucro Negativo: {prob_neg_profit:.2%}\")\n",
    "print(f\"Lucro Médio Esperado: {avg_profit:.2f}\")\n",
    "print(f\"Intervalo de confiança: {profit_conf_interval}\")"
   ]
  },
  {
   "cell_type": "code",
   "execution_count": 31,
   "metadata": {
    "scrolled": false
   },
   "outputs": [
    {
     "name": "stdout",
     "output_type": "stream",
     "text": [
      "Probabilidade Lucro Negativo: 0.30%\n",
      "Lucro Médio Esperado: 5182594.94\n",
      "Intervalo de confiança: (1281232.3143308456, 9536129.820669085)\n"
     ]
    },
    {
     "data": {
      "image/png": "[encoded data removed]",
      "text/plain": [
       "<Figure size 640x480 with 1 Axes>"
      ]
     },
     "metadata": {},
     "output_type": "display_data"
    }
   ],
   "source": [
    "# Bootstrapping para geo_data_1 (antiga)\n",
    "\n",
    "import seaborn as sns\n",
    "\n",
    "sample_size = 500\n",
    "bootstrapping_size = 1000\n",
    "\n",
    "btprofit = []\n",
    "for i in range(bootstrapping_size):\n",
    "    subsample = target_valid1.sample(n=sample_size,replace=True, random_state=state)\n",
    "    sample_predicts = predicted_valid1.iloc[subsample.index]\n",
    "    btprofit.append(calculate_profit(subsample,sample_predicts))\n",
    "    \n",
    "avg_profit = np.mean(btprofit)\n",
    "profit_conf_interval = (np.quantile(btprofit,q=0.025),np.quantile(btprofit,q=0.975))\n",
    "prob_neg_profit = (np.array(btprofit) <0).mean()\n",
    "\n",
    "sns.histplot(btprofit)\n",
    "print(f\"Probabilidade Lucro Negativo: {prob_neg_profit:.2%}\")\n",
    "print(f\"Lucro Médio Esperado: {avg_profit:.2f}\")\n",
    "print(f\"Intervalo de confiança: {profit_conf_interval}\")"
   ]
  },
  {
   "cell_type": "code",
   "execution_count": 32,
   "metadata": {
    "scrolled": false
   },
   "outputs": [
    {
     "name": "stdout",
     "output_type": "stream",
     "text": [
      "Probabilidade Lucro Negativo: 6.20%\n",
      "Lucro Médio Esperado: 4201940.05\n",
      "Intervalo de confiança: (-1158526.0916001017, 9896299.398445744)\n"
     ]
    },
    {
     "data": {
      "image/png": "[encoded data removed]",
      "text/plain": [
       "<Figure size 640x480 with 1 Axes>"
      ]
     },
     "metadata": {},
     "output_type": "display_data"
    }
   ],
   "source": [
    "# Bootstrapping para geo_data_2 (antiga)\n",
    "\n",
    "import seaborn as sns\n",
    "\n",
    "sample_size = 500\n",
    "bootstrapping_size = 1000\n",
    "\n",
    "btprofit = []\n",
    "for i in range(bootstrapping_size):\n",
    "    subsample = target_valid2.sample(n=sample_size,replace=True, random_state=state)\n",
    "    sample_predicts = predicted_valid2.iloc[subsample.index]\n",
    "    btprofit.append(calculate_profit(subsample,sample_predicts))\n",
    "    \n",
    "avg_profit = np.mean(btprofit)\n",
    "profit_conf_interval = (np.quantile(btprofit,q=0.025),np.quantile(btprofit,q=0.975))\n",
    "prob_neg_profit = (np.array(btprofit) <0).mean()\n",
    "\n",
    "sns.histplot(btprofit)\n",
    "print(f\"Probabilidade Lucro Negativo: {prob_neg_profit:.2%}\")\n",
    "print(f\"Lucro Médio Esperado: {avg_profit:.2f}\")\n",
    "print(f\"Intervalo de confiança: {profit_conf_interval}\")"
   ]
  },
  {
   "cell_type": "markdown",
   "metadata": {},
   "source": [
    "General conclusions:\n",
    "- Region 1 was recommended for oil well development as it had the highest average profit and the lowest risk of losses (below the 2.5% threshold).\n",
    "- The results confirmed that Region 1 was consistently profitable and carried minimal risk, aligning with business requirements for sustainable investment."
   ]
  }
 ],
 "metadata": {
  "ExecuteTimeLog": [
   {
    "duration": 5228,
    "start_time": "2024-07-14T18:23:06.081Z"
   },
   {
    "duration": 176,
    "start_time": "2024-07-14T18:23:13.251Z"
   },
   {
    "duration": 144,
    "start_time": "2024-07-14T18:23:20.271Z"
   },
   {
    "duration": 164,
    "start_time": "2024-07-14T18:23:35.515Z"
   },
   {
    "duration": 313,
    "start_time": "2024-07-14T18:24:07.519Z"
   },
   {
    "duration": 422,
    "start_time": "2024-07-14T18:24:21.841Z"
   },
   {
    "duration": 393,
    "start_time": "2024-07-14T18:24:35.075Z"
   },
   {
    "duration": 18,
    "start_time": "2024-07-14T18:25:00.787Z"
   },
   {
    "duration": 16,
    "start_time": "2024-07-14T18:25:15.857Z"
   },
   {
    "duration": 17,
    "start_time": "2024-07-14T18:25:40.489Z"
   },
   {
    "duration": 19,
    "start_time": "2024-07-14T18:25:50.170Z"
   },
   {
    "duration": 17,
    "start_time": "2024-07-14T18:26:01.464Z"
   },
   {
    "duration": 16,
    "start_time": "2024-07-14T18:26:11.784Z"
   },
   {
    "duration": 413,
    "start_time": "2024-07-14T18:27:51.240Z"
   },
   {
    "duration": 23,
    "start_time": "2024-07-14T18:28:04.406Z"
   },
   {
    "duration": 19,
    "start_time": "2024-07-14T18:30:47.397Z"
   },
   {
    "duration": 98,
    "start_time": "2024-07-14T18:37:19.407Z"
   },
   {
    "duration": 44,
    "start_time": "2024-07-14T18:38:11.427Z"
   },
   {
    "duration": 5,
    "start_time": "2024-07-14T18:39:50.362Z"
   },
   {
    "duration": 30,
    "start_time": "2024-07-14T18:40:24.611Z"
   },
   {
    "duration": 42,
    "start_time": "2024-07-14T18:43:57.408Z"
   },
   {
    "duration": 40,
    "start_time": "2024-07-14T18:44:29.614Z"
   },
   {
    "duration": 43,
    "start_time": "2024-07-14T18:44:43.910Z"
   },
   {
    "duration": 4,
    "start_time": "2024-07-14T18:47:26.860Z"
   },
   {
    "duration": 25,
    "start_time": "2024-07-14T18:47:48.042Z"
   },
   {
    "duration": 60,
    "start_time": "2024-07-14T18:49:15.607Z"
   },
   {
    "duration": 278,
    "start_time": "2024-07-14T18:49:48.596Z"
   },
   {
    "duration": 91,
    "start_time": "2024-07-14T18:50:24.163Z"
   },
   {
    "duration": 6,
    "start_time": "2024-07-14T18:50:39.348Z"
   },
   {
    "duration": 53,
    "start_time": "2024-07-14T18:50:49.125Z"
   },
   {
    "duration": 6,
    "start_time": "2024-07-14T18:57:02.711Z"
   },
   {
    "duration": 64,
    "start_time": "2024-07-14T18:58:14.529Z"
   },
   {
    "duration": 178,
    "start_time": "2024-07-14T18:59:31.538Z"
   },
   {
    "duration": 7,
    "start_time": "2024-07-14T19:00:00.533Z"
   },
   {
    "duration": 76,
    "start_time": "2024-07-14T19:00:04.367Z"
   },
   {
    "duration": 12,
    "start_time": "2024-07-14T20:05:13.519Z"
   },
   {
    "duration": 9,
    "start_time": "2024-07-14T20:05:50.478Z"
   },
   {
    "duration": 165,
    "start_time": "2024-07-14T20:05:57.260Z"
   },
   {
    "duration": 9,
    "start_time": "2024-07-14T20:06:25.696Z"
   },
   {
    "duration": 214,
    "start_time": "2024-07-14T20:06:27.200Z"
   },
   {
    "duration": 6,
    "start_time": "2024-07-14T20:06:34.109Z"
   },
   {
    "duration": 55,
    "start_time": "2024-07-14T20:06:40.264Z"
   },
   {
    "duration": 77,
    "start_time": "2024-07-14T20:07:03.748Z"
   },
   {
    "duration": 9,
    "start_time": "2024-07-14T20:07:36.050Z"
   },
   {
    "duration": 49,
    "start_time": "2024-07-14T20:07:37.323Z"
   },
   {
    "duration": 45,
    "start_time": "2024-07-14T20:10:29.849Z"
   },
   {
    "duration": 5,
    "start_time": "2024-07-14T20:24:05.821Z"
   },
   {
    "duration": 11,
    "start_time": "2024-07-14T20:25:04.447Z"
   },
   {
    "duration": 33,
    "start_time": "2024-07-14T20:26:13.001Z"
   },
   {
    "duration": 9,
    "start_time": "2024-07-14T20:26:18.637Z"
   },
   {
    "duration": 12,
    "start_time": "2024-07-14T20:27:08.292Z"
   },
   {
    "duration": 9,
    "start_time": "2024-07-14T20:27:27.300Z"
   },
   {
    "duration": 10,
    "start_time": "2024-07-14T20:28:13.861Z"
   },
   {
    "duration": 9,
    "start_time": "2024-07-14T20:28:48.504Z"
   },
   {
    "duration": 10,
    "start_time": "2024-07-14T20:36:02.428Z"
   },
   {
    "duration": 24,
    "start_time": "2024-07-14T20:36:24.272Z"
   },
   {
    "duration": 23,
    "start_time": "2024-07-14T20:36:28.023Z"
   },
   {
    "duration": 22,
    "start_time": "2024-07-14T20:47:08.395Z"
   },
   {
    "duration": 29,
    "start_time": "2024-07-14T20:47:12.666Z"
   },
   {
    "duration": 911,
    "start_time": "2024-07-14T20:50:22.335Z"
   },
   {
    "duration": 17,
    "start_time": "2024-07-14T20:50:30.925Z"
   },
   {
    "duration": 16,
    "start_time": "2024-07-14T20:50:36.623Z"
   },
   {
    "duration": 21,
    "start_time": "2024-07-14T20:51:11.855Z"
   },
   {
    "duration": 47,
    "start_time": "2024-07-14T20:51:42.963Z"
   },
   {
    "duration": 37,
    "start_time": "2024-07-14T20:51:50.912Z"
   },
   {
    "duration": 45,
    "start_time": "2024-07-14T20:53:17.157Z"
   },
   {
    "duration": 46,
    "start_time": "2024-07-14T20:53:29.370Z"
   },
   {
    "duration": 344,
    "start_time": "2024-07-14T20:53:57.934Z"
   },
   {
    "duration": 18,
    "start_time": "2024-07-14T20:54:35.902Z"
   },
   {
    "duration": 31,
    "start_time": "2024-07-14T20:55:08.285Z"
   },
   {
    "duration": 46,
    "start_time": "2024-07-14T20:55:15.125Z"
   },
   {
    "duration": 38,
    "start_time": "2024-07-14T20:55:27.263Z"
   },
   {
    "duration": 5,
    "start_time": "2024-07-14T20:56:24.335Z"
   },
   {
    "duration": 35,
    "start_time": "2024-07-14T20:56:36.624Z"
   },
   {
    "duration": 6,
    "start_time": "2024-07-14T20:57:08.598Z"
   },
   {
    "duration": 16,
    "start_time": "2024-07-14T20:57:10.095Z"
   },
   {
    "duration": 29,
    "start_time": "2024-07-14T20:57:40.252Z"
   },
   {
    "duration": 7,
    "start_time": "2024-07-14T20:57:48.331Z"
   },
   {
    "duration": 34,
    "start_time": "2024-07-14T20:58:06.463Z"
   },
   {
    "duration": 5,
    "start_time": "2024-07-14T20:59:59.790Z"
   },
   {
    "duration": 9,
    "start_time": "2024-07-14T21:00:01.384Z"
   },
   {
    "duration": 33,
    "start_time": "2024-07-14T21:00:34.671Z"
   },
   {
    "duration": 7,
    "start_time": "2024-07-14T21:00:37.303Z"
   },
   {
    "duration": 4,
    "start_time": "2024-07-14T21:00:42.985Z"
   },
   {
    "duration": 8,
    "start_time": "2024-07-14T21:00:45.099Z"
   },
   {
    "duration": 102,
    "start_time": "2024-07-14T21:01:41.391Z"
   },
   {
    "duration": 8,
    "start_time": "2024-07-14T21:02:04.315Z"
   },
   {
    "duration": 6,
    "start_time": "2024-07-14T21:02:29.631Z"
   },
   {
    "duration": 8,
    "start_time": "2024-07-14T21:02:30.988Z"
   },
   {
    "duration": 5,
    "start_time": "2024-07-14T21:02:47.947Z"
   },
   {
    "duration": 8,
    "start_time": "2024-07-14T21:03:02.050Z"
   },
   {
    "duration": 8,
    "start_time": "2024-07-14T21:03:16.191Z"
   },
   {
    "duration": 44,
    "start_time": "2024-07-14T21:03:37.827Z"
   },
   {
    "duration": 72,
    "start_time": "2024-07-14T21:03:47.450Z"
   },
   {
    "duration": 7,
    "start_time": "2024-07-14T21:04:13.228Z"
   },
   {
    "duration": 7,
    "start_time": "2024-07-14T21:04:20.902Z"
   },
   {
    "duration": 29,
    "start_time": "2024-07-14T21:22:50.761Z"
   },
   {
    "duration": 5,
    "start_time": "2024-07-14T21:23:07.623Z"
   },
   {
    "duration": 8,
    "start_time": "2024-07-14T21:23:10.311Z"
   },
   {
    "duration": 4,
    "start_time": "2024-07-14T21:23:27.462Z"
   },
   {
    "duration": 14,
    "start_time": "2024-07-14T21:26:49.140Z"
   },
   {
    "duration": 168,
    "start_time": "2024-07-14T21:27:02.272Z"
   },
   {
    "duration": 171,
    "start_time": "2024-07-14T21:27:08.867Z"
   },
   {
    "duration": 14,
    "start_time": "2024-07-14T21:27:21.099Z"
   },
   {
    "duration": 173,
    "start_time": "2024-07-14T21:28:08.646Z"
   },
   {
    "duration": 25,
    "start_time": "2024-07-14T21:28:20.064Z"
   },
   {
    "duration": 176,
    "start_time": "2024-07-14T21:28:27.094Z"
   },
   {
    "duration": 52,
    "start_time": "2024-07-14T21:28:45.004Z"
   },
   {
    "duration": 184,
    "start_time": "2024-07-14T21:28:54.121Z"
   },
   {
    "duration": 33,
    "start_time": "2024-07-14T21:29:04.976Z"
   },
   {
    "duration": 180,
    "start_time": "2024-07-14T21:29:18.341Z"
   },
   {
    "duration": 144,
    "start_time": "2024-07-14T21:30:00.435Z"
   },
   {
    "duration": 146,
    "start_time": "2024-07-14T21:30:16.181Z"
   },
   {
    "duration": 124,
    "start_time": "2024-07-14T21:30:24.819Z"
   },
   {
    "duration": 118,
    "start_time": "2024-07-14T21:30:32.823Z"
   },
   {
    "duration": 117,
    "start_time": "2024-07-14T21:30:42.403Z"
   },
   {
    "duration": 279,
    "start_time": "2024-07-14T21:32:58.082Z"
   },
   {
    "duration": 4,
    "start_time": "2024-07-14T21:36:38.113Z"
   },
   {
    "duration": 5,
    "start_time": "2024-07-14T21:36:48.412Z"
   },
   {
    "duration": 8,
    "start_time": "2024-07-14T21:36:49.926Z"
   },
   {
    "duration": 5,
    "start_time": "2024-07-14T21:36:57.839Z"
   },
   {
    "duration": 7,
    "start_time": "2024-07-14T21:36:59.330Z"
   },
   {
    "duration": 10,
    "start_time": "2024-07-14T21:40:45.622Z"
   },
   {
    "duration": 7,
    "start_time": "2024-07-14T21:40:57.871Z"
   },
   {
    "duration": 12,
    "start_time": "2024-07-14T21:41:30.175Z"
   },
   {
    "duration": 32,
    "start_time": "2024-07-14T21:41:48.724Z"
   },
   {
    "duration": 5,
    "start_time": "2024-07-14T21:41:55.068Z"
   },
   {
    "duration": 11,
    "start_time": "2024-07-14T21:41:57.185Z"
   },
   {
    "duration": 8,
    "start_time": "2024-07-14T22:57:31.158Z"
   },
   {
    "duration": 3,
    "start_time": "2024-07-14T23:00:53.289Z"
   },
   {
    "duration": 8,
    "start_time": "2024-07-14T23:13:52.664Z"
   },
   {
    "duration": 33,
    "start_time": "2024-07-14T23:14:15.284Z"
   },
   {
    "duration": 99,
    "start_time": "2024-07-14T23:14:24.128Z"
   },
   {
    "duration": 5,
    "start_time": "2024-07-14T23:16:01.735Z"
   },
   {
    "duration": 101,
    "start_time": "2024-07-14T23:16:04.695Z"
   },
   {
    "duration": 709,
    "start_time": "2024-07-14T23:16:25.028Z"
   },
   {
    "duration": 4,
    "start_time": "2024-07-14T23:16:47.781Z"
   },
   {
    "duration": 1726,
    "start_time": "2024-07-14T23:16:50.070Z"
   },
   {
    "duration": 762,
    "start_time": "2024-07-14T23:18:39.671Z"
   },
   {
    "duration": 6,
    "start_time": "2024-07-14T23:19:24.598Z"
   },
   {
    "duration": 8,
    "start_time": "2024-07-14T23:19:29.156Z"
   },
   {
    "duration": 651,
    "start_time": "2024-07-14T23:20:06.638Z"
   },
   {
    "duration": 652,
    "start_time": "2024-07-14T23:20:15.486Z"
   },
   {
    "duration": 647,
    "start_time": "2024-07-14T23:20:44.492Z"
   },
   {
    "duration": 404,
    "start_time": "2024-07-14T23:32:40.988Z"
   },
   {
    "duration": 85,
    "start_time": "2024-07-14T23:32:58.596Z"
   },
   {
    "duration": 4,
    "start_time": "2024-07-14T23:33:08.422Z"
   },
   {
    "duration": 92,
    "start_time": "2024-07-14T23:33:10.895Z"
   },
   {
    "duration": 87,
    "start_time": "2024-07-14T23:33:53.920Z"
   },
   {
    "duration": 80,
    "start_time": "2024-07-14T23:34:20.798Z"
   },
   {
    "duration": 6,
    "start_time": "2024-07-14T23:34:46.741Z"
   },
   {
    "duration": 27,
    "start_time": "2024-07-14T23:34:51.258Z"
   },
   {
    "duration": 5,
    "start_time": "2024-07-14T23:34:58.073Z"
   },
   {
    "duration": 77,
    "start_time": "2024-07-14T23:35:43.828Z"
   },
   {
    "duration": 7,
    "start_time": "2024-07-14T23:36:00.049Z"
   },
   {
    "duration": 175,
    "start_time": "2024-07-14T23:36:24.444Z"
   },
   {
    "duration": 189,
    "start_time": "2024-07-14T23:36:28.991Z"
   },
   {
    "duration": 158,
    "start_time": "2024-07-14T23:36:55.965Z"
   },
   {
    "duration": 9,
    "start_time": "2024-07-14T23:38:01.884Z"
   },
   {
    "duration": 9,
    "start_time": "2024-07-14T23:38:14.316Z"
   },
   {
    "duration": 11,
    "start_time": "2024-07-14T23:39:15.353Z"
   },
   {
    "duration": 1448,
    "start_time": "2024-07-14T23:42:38.599Z"
   },
   {
    "duration": 518,
    "start_time": "2024-07-14T23:42:40.050Z"
   },
   {
    "duration": 21,
    "start_time": "2024-07-14T23:42:40.570Z"
   },
   {
    "duration": 57,
    "start_time": "2024-07-14T23:42:40.595Z"
   },
   {
    "duration": 18,
    "start_time": "2024-07-14T23:42:40.657Z"
   },
   {
    "duration": 44,
    "start_time": "2024-07-14T23:42:40.677Z"
   },
   {
    "duration": 44,
    "start_time": "2024-07-14T23:42:40.724Z"
   },
   {
    "duration": 46,
    "start_time": "2024-07-14T23:42:40.770Z"
   },
   {
    "duration": 18,
    "start_time": "2024-07-14T23:42:40.819Z"
   },
   {
    "duration": 41,
    "start_time": "2024-07-14T23:42:40.840Z"
   },
   {
    "duration": 20,
    "start_time": "2024-07-14T23:42:40.913Z"
   },
   {
    "duration": 32,
    "start_time": "2024-07-14T23:42:40.935Z"
   },
   {
    "duration": 81,
    "start_time": "2024-07-14T23:42:40.970Z"
   },
   {
    "duration": 69,
    "start_time": "2024-07-14T23:42:41.056Z"
   },
   {
    "duration": 756,
    "start_time": "2024-07-14T23:42:41.128Z"
   },
   {
    "duration": 0,
    "start_time": "2024-07-14T23:42:41.887Z"
   },
   {
    "duration": 0,
    "start_time": "2024-07-14T23:42:41.889Z"
   },
   {
    "duration": 0,
    "start_time": "2024-07-14T23:42:41.892Z"
   },
   {
    "duration": 0,
    "start_time": "2024-07-14T23:42:41.894Z"
   },
   {
    "duration": 0,
    "start_time": "2024-07-14T23:42:41.896Z"
   },
   {
    "duration": 0,
    "start_time": "2024-07-14T23:42:41.912Z"
   },
   {
    "duration": 0,
    "start_time": "2024-07-14T23:42:41.915Z"
   },
   {
    "duration": 0,
    "start_time": "2024-07-14T23:42:41.918Z"
   },
   {
    "duration": 0,
    "start_time": "2024-07-14T23:42:41.920Z"
   },
   {
    "duration": 140,
    "start_time": "2024-07-14T23:43:25.193Z"
   },
   {
    "duration": 10,
    "start_time": "2024-07-14T23:43:41.057Z"
   },
   {
    "duration": 12,
    "start_time": "2024-07-14T23:43:43.219Z"
   },
   {
    "duration": 10,
    "start_time": "2024-07-14T23:43:46.948Z"
   },
   {
    "duration": 3,
    "start_time": "2024-07-14T23:43:49.280Z"
   },
   {
    "duration": 298,
    "start_time": "2024-07-14T23:43:50.879Z"
   },
   {
    "duration": 6,
    "start_time": "2024-07-14T23:43:54.389Z"
   },
   {
    "duration": 70,
    "start_time": "2024-07-14T23:43:56.581Z"
   },
   {
    "duration": 9,
    "start_time": "2024-07-14T23:43:58.696Z"
   },
   {
    "duration": 46,
    "start_time": "2024-07-15T13:55:19.844Z"
   },
   {
    "duration": 9,
    "start_time": "2024-07-15T13:55:24.257Z"
   },
   {
    "duration": 45,
    "start_time": "2024-07-15T13:55:35.448Z"
   },
   {
    "duration": 41,
    "start_time": "2024-07-15T13:55:46.849Z"
   },
   {
    "duration": 45,
    "start_time": "2024-07-15T14:02:27.150Z"
   },
   {
    "duration": 50,
    "start_time": "2024-07-15T14:03:03.106Z"
   },
   {
    "duration": 46,
    "start_time": "2024-07-15T14:03:10.217Z"
   },
   {
    "duration": 9,
    "start_time": "2024-07-15T14:04:47.490Z"
   },
   {
    "duration": 9,
    "start_time": "2024-07-15T14:04:51.444Z"
   },
   {
    "duration": 44,
    "start_time": "2024-07-15T14:04:57.972Z"
   },
   {
    "duration": 8,
    "start_time": "2024-07-15T14:05:08.352Z"
   },
   {
    "duration": 47,
    "start_time": "2024-07-15T14:05:10.956Z"
   },
   {
    "duration": 42,
    "start_time": "2024-07-15T14:05:16.546Z"
   },
   {
    "duration": 9,
    "start_time": "2024-07-15T14:06:58.066Z"
   },
   {
    "duration": 9,
    "start_time": "2024-07-15T14:07:00.869Z"
   },
   {
    "duration": 44,
    "start_time": "2024-07-15T14:07:07.754Z"
   },
   {
    "duration": 48,
    "start_time": "2024-07-15T14:07:11.397Z"
   },
   {
    "duration": 46,
    "start_time": "2024-07-15T14:10:17.473Z"
   },
   {
    "duration": 43,
    "start_time": "2024-07-15T14:11:39.335Z"
   },
   {
    "duration": 39,
    "start_time": "2024-07-15T14:12:03.433Z"
   },
   {
    "duration": 41,
    "start_time": "2024-07-15T14:12:20.196Z"
   },
   {
    "duration": 4,
    "start_time": "2024-07-15T14:16:41.709Z"
   },
   {
    "duration": 4,
    "start_time": "2024-07-15T14:16:43.757Z"
   },
   {
    "duration": 450,
    "start_time": "2024-07-15T14:16:46.229Z"
   },
   {
    "duration": 4,
    "start_time": "2024-07-15T14:17:02.408Z"
   },
   {
    "duration": 5,
    "start_time": "2024-07-15T14:17:04.464Z"
   },
   {
    "duration": 46,
    "start_time": "2024-07-15T14:17:06.713Z"
   },
   {
    "duration": 5,
    "start_time": "2024-07-15T14:17:46.547Z"
   },
   {
    "duration": 11,
    "start_time": "2024-07-15T14:17:47.907Z"
   },
   {
    "duration": 10,
    "start_time": "2024-07-15T14:17:59.441Z"
   },
   {
    "duration": 5,
    "start_time": "2024-07-15T14:18:02.983Z"
   },
   {
    "duration": 5,
    "start_time": "2024-07-15T14:18:25.165Z"
   },
   {
    "duration": 7,
    "start_time": "2024-07-15T14:18:35.555Z"
   },
   {
    "duration": 10,
    "start_time": "2024-07-15T14:19:09.944Z"
   },
   {
    "duration": 20,
    "start_time": "2024-07-15T14:19:43.655Z"
   },
   {
    "duration": 1788,
    "start_time": "2024-07-15T14:39:01.510Z"
   },
   {
    "duration": 1714,
    "start_time": "2024-07-15T15:38:54.785Z"
   },
   {
    "duration": 1734,
    "start_time": "2024-07-15T15:39:04.894Z"
   },
   {
    "duration": 1714,
    "start_time": "2024-07-15T15:39:37.418Z"
   },
   {
    "duration": 1747,
    "start_time": "2024-07-15T15:41:42.692Z"
   },
   {
    "duration": 1975,
    "start_time": "2024-07-15T15:45:46.050Z"
   },
   {
    "duration": 1775,
    "start_time": "2024-07-15T15:46:02.692Z"
   },
   {
    "duration": 1720,
    "start_time": "2024-07-15T15:46:59.325Z"
   },
   {
    "duration": 1736,
    "start_time": "2024-07-15T15:47:05.385Z"
   },
   {
    "duration": 1720,
    "start_time": "2024-07-15T15:47:10.955Z"
   },
   {
    "duration": 1752,
    "start_time": "2024-07-15T15:48:04.087Z"
   },
   {
    "duration": 1710,
    "start_time": "2024-07-15T15:52:20.850Z"
   },
   {
    "duration": 1781,
    "start_time": "2024-07-15T15:53:10.351Z"
   },
   {
    "duration": 1982,
    "start_time": "2024-07-15T15:53:23.213Z"
   },
   {
    "duration": 1728,
    "start_time": "2024-07-15T15:53:35.258Z"
   },
   {
    "duration": 1735,
    "start_time": "2024-07-15T15:53:44.710Z"
   },
   {
    "duration": 1802,
    "start_time": "2024-07-15T15:53:50.168Z"
   },
   {
    "duration": 1760,
    "start_time": "2024-07-15T15:53:53.455Z"
   },
   {
    "duration": 1721,
    "start_time": "2024-07-15T15:54:01.206Z"
   },
   {
    "duration": 315,
    "start_time": "2024-07-15T22:29:23.080Z"
   },
   {
    "duration": 5377,
    "start_time": "2024-07-15T22:29:30.558Z"
   },
   {
    "duration": 5,
    "start_time": "2024-07-15T22:29:43.050Z"
   },
   {
    "duration": 513,
    "start_time": "2024-07-15T22:29:43.058Z"
   },
   {
    "duration": 21,
    "start_time": "2024-07-15T22:29:43.574Z"
   },
   {
    "duration": 60,
    "start_time": "2024-07-15T22:29:43.598Z"
   },
   {
    "duration": 18,
    "start_time": "2024-07-15T22:29:43.662Z"
   },
   {
    "duration": 46,
    "start_time": "2024-07-15T22:29:43.683Z"
   },
   {
    "duration": 43,
    "start_time": "2024-07-15T22:29:43.732Z"
   },
   {
    "duration": 17,
    "start_time": "2024-07-15T22:29:43.778Z"
   },
   {
    "duration": 51,
    "start_time": "2024-07-15T22:29:43.798Z"
   },
   {
    "duration": 47,
    "start_time": "2024-07-15T22:29:43.851Z"
   },
   {
    "duration": 44,
    "start_time": "2024-07-15T22:29:43.902Z"
   },
   {
    "duration": 29,
    "start_time": "2024-07-15T22:29:43.951Z"
   },
   {
    "duration": 60,
    "start_time": "2024-07-15T22:29:47.123Z"
   },
   {
    "duration": 161,
    "start_time": "2024-07-15T22:30:05.451Z"
   },
   {
    "duration": 29,
    "start_time": "2024-07-15T22:33:22.482Z"
   },
   {
    "duration": 34,
    "start_time": "2024-07-15T22:33:38.283Z"
   },
   {
    "duration": 36,
    "start_time": "2024-07-15T22:33:44.026Z"
   },
   {
    "duration": 7,
    "start_time": "2024-07-15T22:38:12.638Z"
   },
   {
    "duration": 6,
    "start_time": "2024-07-15T22:39:17.011Z"
   },
   {
    "duration": 143,
    "start_time": "2024-07-15T22:40:38.200Z"
   },
   {
    "duration": 6,
    "start_time": "2024-07-15T22:40:48.592Z"
   },
   {
    "duration": 403,
    "start_time": "2024-07-15T22:40:48.602Z"
   },
   {
    "duration": 27,
    "start_time": "2024-07-15T22:40:49.008Z"
   },
   {
    "duration": 45,
    "start_time": "2024-07-15T22:40:49.038Z"
   },
   {
    "duration": 44,
    "start_time": "2024-07-15T22:40:49.088Z"
   },
   {
    "duration": 18,
    "start_time": "2024-07-15T22:40:49.135Z"
   },
   {
    "duration": 74,
    "start_time": "2024-07-15T22:40:49.156Z"
   },
   {
    "duration": 18,
    "start_time": "2024-07-15T22:40:49.234Z"
   },
   {
    "duration": 20,
    "start_time": "2024-07-15T22:40:49.255Z"
   },
   {
    "duration": 95,
    "start_time": "2024-07-15T22:40:49.278Z"
   },
   {
    "duration": 22,
    "start_time": "2024-07-15T22:40:49.381Z"
   },
   {
    "duration": 36,
    "start_time": "2024-07-15T22:40:49.411Z"
   },
   {
    "duration": 195,
    "start_time": "2024-07-15T22:40:49.455Z"
   },
   {
    "duration": 81,
    "start_time": "2024-07-15T22:40:49.654Z"
   },
   {
    "duration": 11,
    "start_time": "2024-07-15T22:40:49.738Z"
   },
   {
    "duration": 122,
    "start_time": "2024-07-15T22:40:49.752Z"
   },
   {
    "duration": 135,
    "start_time": "2024-07-15T22:40:49.932Z"
   },
   {
    "duration": 178,
    "start_time": "2024-07-15T22:40:50.071Z"
   },
   {
    "duration": 75,
    "start_time": "2024-07-15T22:40:50.255Z"
   },
   {
    "duration": 16,
    "start_time": "2024-07-15T22:40:50.333Z"
   },
   {
    "duration": 79,
    "start_time": "2024-07-15T22:40:50.353Z"
   },
   {
    "duration": 4,
    "start_time": "2024-07-15T22:40:50.435Z"
   },
   {
    "duration": 5,
    "start_time": "2024-07-15T22:41:00.596Z"
   },
   {
    "duration": 5,
    "start_time": "2024-07-15T22:50:23.946Z"
   },
   {
    "duration": 25,
    "start_time": "2024-07-15T22:51:07.552Z"
   },
   {
    "duration": 5,
    "start_time": "2024-07-15T22:51:10.410Z"
   },
   {
    "duration": 39,
    "start_time": "2024-07-15T22:51:12.524Z"
   },
   {
    "duration": 5,
    "start_time": "2024-07-15T22:51:18.932Z"
   },
   {
    "duration": 48,
    "start_time": "2024-07-15T22:51:20.641Z"
   },
   {
    "duration": 5,
    "start_time": "2024-07-15T22:51:30.224Z"
   },
   {
    "duration": 50,
    "start_time": "2024-07-15T22:51:31.594Z"
   },
   {
    "duration": 6,
    "start_time": "2024-07-15T22:52:08.175Z"
   },
   {
    "duration": 4,
    "start_time": "2024-07-15T22:52:13.440Z"
   },
   {
    "duration": 33,
    "start_time": "2024-07-15T22:52:22.059Z"
   },
   {
    "duration": 7,
    "start_time": "2024-07-15T22:52:27.656Z"
   },
   {
    "duration": 5,
    "start_time": "2024-07-15T22:53:14.153Z"
   },
   {
    "duration": 754,
    "start_time": "2024-07-15T22:53:17.251Z"
   },
   {
    "duration": 5,
    "start_time": "2024-07-15T22:53:41.254Z"
   },
   {
    "duration": 528,
    "start_time": "2024-07-15T22:53:42.855Z"
   },
   {
    "duration": 580,
    "start_time": "2024-07-15T22:53:59.457Z"
   },
   {
    "duration": 523,
    "start_time": "2024-07-15T22:54:04.108Z"
   },
   {
    "duration": 496,
    "start_time": "2024-07-15T22:56:49.403Z"
   },
   {
    "duration": 655,
    "start_time": "2024-07-15T23:00:25.969Z"
   },
   {
    "duration": 536,
    "start_time": "2024-07-15T23:02:05.047Z"
   },
   {
    "duration": 2156,
    "start_time": "2024-07-15T23:04:10.948Z"
   },
   {
    "duration": 2197,
    "start_time": "2024-07-15T23:04:24.984Z"
   },
   {
    "duration": 2787,
    "start_time": "2024-07-15T23:04:42.943Z"
   },
   {
    "duration": 3018,
    "start_time": "2024-07-15T23:06:01.523Z"
   },
   {
    "duration": 1434,
    "start_time": "2024-07-15T23:06:43.330Z"
   },
   {
    "duration": 381,
    "start_time": "2024-07-15T23:06:44.768Z"
   },
   {
    "duration": 23,
    "start_time": "2024-07-15T23:06:45.155Z"
   },
   {
    "duration": 61,
    "start_time": "2024-07-15T23:06:45.181Z"
   },
   {
    "duration": 30,
    "start_time": "2024-07-15T23:06:45.248Z"
   },
   {
    "duration": 23,
    "start_time": "2024-07-15T23:06:45.280Z"
   },
   {
    "duration": 88,
    "start_time": "2024-07-15T23:06:45.308Z"
   },
   {
    "duration": 20,
    "start_time": "2024-07-15T23:06:45.399Z"
   },
   {
    "duration": 23,
    "start_time": "2024-07-15T23:06:45.423Z"
   },
   {
    "duration": 49,
    "start_time": "2024-07-15T23:06:45.449Z"
   },
   {
    "duration": 44,
    "start_time": "2024-07-15T23:06:45.501Z"
   },
   {
    "duration": 23,
    "start_time": "2024-07-15T23:06:45.548Z"
   },
   {
    "duration": 183,
    "start_time": "2024-07-15T23:06:45.574Z"
   },
   {
    "duration": 76,
    "start_time": "2024-07-15T23:06:45.764Z"
   },
   {
    "duration": 18,
    "start_time": "2024-07-15T23:06:45.842Z"
   },
   {
    "duration": 124,
    "start_time": "2024-07-15T23:06:45.863Z"
   },
   {
    "duration": 157,
    "start_time": "2024-07-15T23:06:45.993Z"
   },
   {
    "duration": 184,
    "start_time": "2024-07-15T23:06:46.157Z"
   },
   {
    "duration": 16,
    "start_time": "2024-07-15T23:06:46.343Z"
   },
   {
    "duration": 79,
    "start_time": "2024-07-15T23:06:46.362Z"
   },
   {
    "duration": 18,
    "start_time": "2024-07-15T23:06:46.444Z"
   },
   {
    "duration": 5,
    "start_time": "2024-07-15T23:06:46.465Z"
   },
   {
    "duration": 6,
    "start_time": "2024-07-15T23:06:46.532Z"
   },
   {
    "duration": 334,
    "start_time": "2024-07-15T23:06:46.541Z"
   },
   {
    "duration": 5,
    "start_time": "2024-07-15T23:06:46.878Z"
   },
   {
    "duration": 7,
    "start_time": "2024-07-15T23:06:46.886Z"
   },
   {
    "duration": 2879,
    "start_time": "2024-07-15T23:06:46.897Z"
   },
   {
    "duration": 5,
    "start_time": "2024-07-15T23:06:49.779Z"
   },
   {
    "duration": 45,
    "start_time": "2024-07-15T23:06:49.788Z"
   },
   {
    "duration": 1694,
    "start_time": "2024-07-15T23:06:49.836Z"
   },
   {
    "duration": 1797,
    "start_time": "2024-07-15T23:06:51.533Z"
   },
   {
    "duration": 1685,
    "start_time": "2024-07-15T23:06:53.333Z"
   },
   {
    "duration": 8,
    "start_time": "2024-07-15T23:09:51.093Z"
   },
   {
    "duration": 1258,
    "start_time": "2024-07-15T23:10:32.447Z"
   },
   {
    "duration": 1287,
    "start_time": "2024-07-15T23:11:43.187Z"
   },
   {
    "duration": 1299,
    "start_time": "2024-07-15T23:12:32.118Z"
   }
  ],
  "kernelspec": {
   "display_name": "Python 3 (ipykernel)",
   "language": "python",
   "name": "python3"
  },
  "language_info": {
   "codemirror_mode": {
    "name": "ipython",
    "version": 3
   },
   "file_extension": ".py",
   "mimetype": "text/x-python",
   "name": "python",
   "nbconvert_exporter": "python",
   "pygments_lexer": "ipython3",
   "version": "3.9.19"
  },
  "toc": {
   "base_numbering": 1,
   "nav_menu": {},
   "number_sections": true,
   "sideBar": true,
   "skip_h1_title": true,
   "title_cell": "Table of Contents",
   "title_sidebar": "Contents",
   "toc_cell": false,
   "toc_position": {},
   "toc_section_display": true,
   "toc_window_display": false
  }
 },
 "nbformat": 4,
 "nbformat_minor": 2
}
